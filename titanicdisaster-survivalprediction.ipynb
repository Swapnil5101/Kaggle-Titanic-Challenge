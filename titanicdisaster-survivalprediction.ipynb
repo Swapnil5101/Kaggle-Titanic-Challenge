{
 "cells": [
  {
   "cell_type": "code",
   "execution_count": 1,
   "id": "530b95fe",
   "metadata": {
    "_cell_guid": "b1076dfc-b9ad-4769-8c92-a6c4dae69d19",
    "_uuid": "8f2839f25d086af736a60e9eeb907d3b93b6e0e5",
    "execution": {
     "iopub.execute_input": "2021-07-22T06:29:40.892577Z",
     "iopub.status.busy": "2021-07-22T06:29:40.890738Z",
     "iopub.status.idle": "2021-07-22T06:29:41.907885Z",
     "shell.execute_reply": "2021-07-22T06:29:41.907118Z",
     "shell.execute_reply.started": "2021-07-22T06:05:44.299872Z"
    },
    "papermill": {
     "duration": 1.063485,
     "end_time": "2021-07-22T06:29:41.908055",
     "exception": false,
     "start_time": "2021-07-22T06:29:40.844570",
     "status": "completed"
    },
    "tags": []
   },
   "outputs": [
    {
     "name": "stdout",
     "output_type": "stream",
     "text": [
      "/kaggle/input/titanic/train.csv\n",
      "/kaggle/input/titanic/test.csv\n",
      "/kaggle/input/titanic/gender_submission.csv\n"
     ]
    }
   ],
   "source": [
    "# This Python 3 environment comes with many helpful analytics libraries installed\n",
    "# It is defined by the kaggle/python Docker image: https://github.com/kaggle/docker-python\n",
    "# For example, here's several helpful packages to load\n",
    "\n",
    "import numpy as np # linear algebra\n",
    "import pandas as pd # data processing, CSV file I/O (e.g. pd.read_csv)\n",
    "import seaborn as sns # Data visualization\n",
    "\n",
    "# Input data files are available in the read-only \"../input/\" directory\n",
    "# For example, running this (by clicking run or pressing Shift+Enter) will list all files under the input directory\n",
    "\n",
    "import os\n",
    "for dirname, _, filenames in os.walk('/kaggle/input'):\n",
    "    for filename in filenames:\n",
    "        print(os.path.join(dirname, filename))\n",
    "\n",
    "# You can write up to 20GB to the current directory (/kaggle/working/) that gets preserved as output when you create a version using \"Save & Run All\" \n",
    "# You can also write temporary files to /kaggle/temp/, but they won't be saved outside of the current session"
   ]
  },
  {
   "cell_type": "markdown",
   "id": "9cd73f70",
   "metadata": {
    "papermill": {
     "duration": 0.03967,
     "end_time": "2021-07-22T06:29:41.990396",
     "exception": false,
     "start_time": "2021-07-22T06:29:41.950726",
     "status": "completed"
    },
    "tags": []
   },
   "source": [
    "## Load training dataset"
   ]
  },
  {
   "cell_type": "code",
   "execution_count": 2,
   "id": "00c18691",
   "metadata": {
    "execution": {
     "iopub.execute_input": "2021-07-22T06:29:42.078645Z",
     "iopub.status.busy": "2021-07-22T06:29:42.077905Z",
     "iopub.status.idle": "2021-07-22T06:29:42.122938Z",
     "shell.execute_reply": "2021-07-22T06:29:42.123438Z",
     "shell.execute_reply.started": "2021-07-22T06:05:44.370032Z"
    },
    "papermill": {
     "duration": 0.092361,
     "end_time": "2021-07-22T06:29:42.123625",
     "exception": false,
     "start_time": "2021-07-22T06:29:42.031264",
     "status": "completed"
    },
    "tags": []
   },
   "outputs": [
    {
     "data": {
      "text/html": [
       "<div>\n",
       "<style scoped>\n",
       "    .dataframe tbody tr th:only-of-type {\n",
       "        vertical-align: middle;\n",
       "    }\n",
       "\n",
       "    .dataframe tbody tr th {\n",
       "        vertical-align: top;\n",
       "    }\n",
       "\n",
       "    .dataframe thead th {\n",
       "        text-align: right;\n",
       "    }\n",
       "</style>\n",
       "<table border=\"1\" class=\"dataframe\">\n",
       "  <thead>\n",
       "    <tr style=\"text-align: right;\">\n",
       "      <th></th>\n",
       "      <th>PassengerId</th>\n",
       "      <th>Survived</th>\n",
       "      <th>Pclass</th>\n",
       "      <th>Name</th>\n",
       "      <th>Sex</th>\n",
       "      <th>Age</th>\n",
       "      <th>SibSp</th>\n",
       "      <th>Parch</th>\n",
       "      <th>Ticket</th>\n",
       "      <th>Fare</th>\n",
       "      <th>Cabin</th>\n",
       "      <th>Embarked</th>\n",
       "    </tr>\n",
       "  </thead>\n",
       "  <tbody>\n",
       "    <tr>\n",
       "      <th>0</th>\n",
       "      <td>1</td>\n",
       "      <td>0</td>\n",
       "      <td>3</td>\n",
       "      <td>Braund, Mr. Owen Harris</td>\n",
       "      <td>male</td>\n",
       "      <td>22.0</td>\n",
       "      <td>1</td>\n",
       "      <td>0</td>\n",
       "      <td>A/5 21171</td>\n",
       "      <td>7.2500</td>\n",
       "      <td>NaN</td>\n",
       "      <td>S</td>\n",
       "    </tr>\n",
       "    <tr>\n",
       "      <th>1</th>\n",
       "      <td>2</td>\n",
       "      <td>1</td>\n",
       "      <td>1</td>\n",
       "      <td>Cumings, Mrs. John Bradley (Florence Briggs Th...</td>\n",
       "      <td>female</td>\n",
       "      <td>38.0</td>\n",
       "      <td>1</td>\n",
       "      <td>0</td>\n",
       "      <td>PC 17599</td>\n",
       "      <td>71.2833</td>\n",
       "      <td>C85</td>\n",
       "      <td>C</td>\n",
       "    </tr>\n",
       "    <tr>\n",
       "      <th>2</th>\n",
       "      <td>3</td>\n",
       "      <td>1</td>\n",
       "      <td>3</td>\n",
       "      <td>Heikkinen, Miss. Laina</td>\n",
       "      <td>female</td>\n",
       "      <td>26.0</td>\n",
       "      <td>0</td>\n",
       "      <td>0</td>\n",
       "      <td>STON/O2. 3101282</td>\n",
       "      <td>7.9250</td>\n",
       "      <td>NaN</td>\n",
       "      <td>S</td>\n",
       "    </tr>\n",
       "    <tr>\n",
       "      <th>3</th>\n",
       "      <td>4</td>\n",
       "      <td>1</td>\n",
       "      <td>1</td>\n",
       "      <td>Futrelle, Mrs. Jacques Heath (Lily May Peel)</td>\n",
       "      <td>female</td>\n",
       "      <td>35.0</td>\n",
       "      <td>1</td>\n",
       "      <td>0</td>\n",
       "      <td>113803</td>\n",
       "      <td>53.1000</td>\n",
       "      <td>C123</td>\n",
       "      <td>S</td>\n",
       "    </tr>\n",
       "    <tr>\n",
       "      <th>4</th>\n",
       "      <td>5</td>\n",
       "      <td>0</td>\n",
       "      <td>3</td>\n",
       "      <td>Allen, Mr. William Henry</td>\n",
       "      <td>male</td>\n",
       "      <td>35.0</td>\n",
       "      <td>0</td>\n",
       "      <td>0</td>\n",
       "      <td>373450</td>\n",
       "      <td>8.0500</td>\n",
       "      <td>NaN</td>\n",
       "      <td>S</td>\n",
       "    </tr>\n",
       "    <tr>\n",
       "      <th>5</th>\n",
       "      <td>6</td>\n",
       "      <td>0</td>\n",
       "      <td>3</td>\n",
       "      <td>Moran, Mr. James</td>\n",
       "      <td>male</td>\n",
       "      <td>NaN</td>\n",
       "      <td>0</td>\n",
       "      <td>0</td>\n",
       "      <td>330877</td>\n",
       "      <td>8.4583</td>\n",
       "      <td>NaN</td>\n",
       "      <td>Q</td>\n",
       "    </tr>\n",
       "    <tr>\n",
       "      <th>6</th>\n",
       "      <td>7</td>\n",
       "      <td>0</td>\n",
       "      <td>1</td>\n",
       "      <td>McCarthy, Mr. Timothy J</td>\n",
       "      <td>male</td>\n",
       "      <td>54.0</td>\n",
       "      <td>0</td>\n",
       "      <td>0</td>\n",
       "      <td>17463</td>\n",
       "      <td>51.8625</td>\n",
       "      <td>E46</td>\n",
       "      <td>S</td>\n",
       "    </tr>\n",
       "    <tr>\n",
       "      <th>7</th>\n",
       "      <td>8</td>\n",
       "      <td>0</td>\n",
       "      <td>3</td>\n",
       "      <td>Palsson, Master. Gosta Leonard</td>\n",
       "      <td>male</td>\n",
       "      <td>2.0</td>\n",
       "      <td>3</td>\n",
       "      <td>1</td>\n",
       "      <td>349909</td>\n",
       "      <td>21.0750</td>\n",
       "      <td>NaN</td>\n",
       "      <td>S</td>\n",
       "    </tr>\n",
       "    <tr>\n",
       "      <th>8</th>\n",
       "      <td>9</td>\n",
       "      <td>1</td>\n",
       "      <td>3</td>\n",
       "      <td>Johnson, Mrs. Oscar W (Elisabeth Vilhelmina Berg)</td>\n",
       "      <td>female</td>\n",
       "      <td>27.0</td>\n",
       "      <td>0</td>\n",
       "      <td>2</td>\n",
       "      <td>347742</td>\n",
       "      <td>11.1333</td>\n",
       "      <td>NaN</td>\n",
       "      <td>S</td>\n",
       "    </tr>\n",
       "    <tr>\n",
       "      <th>9</th>\n",
       "      <td>10</td>\n",
       "      <td>1</td>\n",
       "      <td>2</td>\n",
       "      <td>Nasser, Mrs. Nicholas (Adele Achem)</td>\n",
       "      <td>female</td>\n",
       "      <td>14.0</td>\n",
       "      <td>1</td>\n",
       "      <td>0</td>\n",
       "      <td>237736</td>\n",
       "      <td>30.0708</td>\n",
       "      <td>NaN</td>\n",
       "      <td>C</td>\n",
       "    </tr>\n",
       "  </tbody>\n",
       "</table>\n",
       "</div>"
      ],
      "text/plain": [
       "   PassengerId  Survived  Pclass  \\\n",
       "0            1         0       3   \n",
       "1            2         1       1   \n",
       "2            3         1       3   \n",
       "3            4         1       1   \n",
       "4            5         0       3   \n",
       "5            6         0       3   \n",
       "6            7         0       1   \n",
       "7            8         0       3   \n",
       "8            9         1       3   \n",
       "9           10         1       2   \n",
       "\n",
       "                                                Name     Sex   Age  SibSp  \\\n",
       "0                            Braund, Mr. Owen Harris    male  22.0      1   \n",
       "1  Cumings, Mrs. John Bradley (Florence Briggs Th...  female  38.0      1   \n",
       "2                             Heikkinen, Miss. Laina  female  26.0      0   \n",
       "3       Futrelle, Mrs. Jacques Heath (Lily May Peel)  female  35.0      1   \n",
       "4                           Allen, Mr. William Henry    male  35.0      0   \n",
       "5                                   Moran, Mr. James    male   NaN      0   \n",
       "6                            McCarthy, Mr. Timothy J    male  54.0      0   \n",
       "7                     Palsson, Master. Gosta Leonard    male   2.0      3   \n",
       "8  Johnson, Mrs. Oscar W (Elisabeth Vilhelmina Berg)  female  27.0      0   \n",
       "9                Nasser, Mrs. Nicholas (Adele Achem)  female  14.0      1   \n",
       "\n",
       "   Parch            Ticket     Fare Cabin Embarked  \n",
       "0      0         A/5 21171   7.2500   NaN        S  \n",
       "1      0          PC 17599  71.2833   C85        C  \n",
       "2      0  STON/O2. 3101282   7.9250   NaN        S  \n",
       "3      0            113803  53.1000  C123        S  \n",
       "4      0            373450   8.0500   NaN        S  \n",
       "5      0            330877   8.4583   NaN        Q  \n",
       "6      0             17463  51.8625   E46        S  \n",
       "7      1            349909  21.0750   NaN        S  \n",
       "8      2            347742  11.1333   NaN        S  \n",
       "9      0            237736  30.0708   NaN        C  "
      ]
     },
     "execution_count": 2,
     "metadata": {},
     "output_type": "execute_result"
    }
   ],
   "source": [
    "Df = pd.read_csv(\"../input/titanic/train.csv\")\n",
    "Df.head(10)"
   ]
  },
  {
   "cell_type": "code",
   "execution_count": 3,
   "id": "63becfd5",
   "metadata": {
    "execution": {
     "iopub.execute_input": "2021-07-22T06:29:42.212428Z",
     "iopub.status.busy": "2021-07-22T06:29:42.211574Z",
     "iopub.status.idle": "2021-07-22T06:29:42.215018Z",
     "shell.execute_reply": "2021-07-22T06:29:42.215532Z",
     "shell.execute_reply.started": "2021-07-22T06:05:44.409754Z"
    },
    "papermill": {
     "duration": 0.050103,
     "end_time": "2021-07-22T06:29:42.215756",
     "exception": false,
     "start_time": "2021-07-22T06:29:42.165653",
     "status": "completed"
    },
    "tags": []
   },
   "outputs": [
    {
     "data": {
      "text/plain": [
       "(891, 12)"
      ]
     },
     "execution_count": 3,
     "metadata": {},
     "output_type": "execute_result"
    }
   ],
   "source": [
    "Df.shape"
   ]
  },
  {
   "cell_type": "code",
   "execution_count": 4,
   "id": "e6de8e3e",
   "metadata": {
    "execution": {
     "iopub.execute_input": "2021-07-22T06:29:42.302008Z",
     "iopub.status.busy": "2021-07-22T06:29:42.301331Z",
     "iopub.status.idle": "2021-07-22T06:29:42.326049Z",
     "shell.execute_reply": "2021-07-22T06:29:42.325467Z",
     "shell.execute_reply.started": "2021-07-22T06:05:44.459774Z"
    },
    "papermill": {
     "duration": 0.069055,
     "end_time": "2021-07-22T06:29:42.326199",
     "exception": false,
     "start_time": "2021-07-22T06:29:42.257144",
     "status": "completed"
    },
    "tags": []
   },
   "outputs": [
    {
     "name": "stdout",
     "output_type": "stream",
     "text": [
      "<class 'pandas.core.frame.DataFrame'>\n",
      "RangeIndex: 891 entries, 0 to 890\n",
      "Data columns (total 12 columns):\n",
      " #   Column       Non-Null Count  Dtype  \n",
      "---  ------       --------------  -----  \n",
      " 0   PassengerId  891 non-null    int64  \n",
      " 1   Survived     891 non-null    int64  \n",
      " 2   Pclass       891 non-null    int64  \n",
      " 3   Name         891 non-null    object \n",
      " 4   Sex          891 non-null    object \n",
      " 5   Age          714 non-null    float64\n",
      " 6   SibSp        891 non-null    int64  \n",
      " 7   Parch        891 non-null    int64  \n",
      " 8   Ticket       891 non-null    object \n",
      " 9   Fare         891 non-null    float64\n",
      " 10  Cabin        204 non-null    object \n",
      " 11  Embarked     889 non-null    object \n",
      "dtypes: float64(2), int64(5), object(5)\n",
      "memory usage: 83.7+ KB\n"
     ]
    }
   ],
   "source": [
    "Df.info()"
   ]
  },
  {
   "cell_type": "markdown",
   "id": "36456cb0",
   "metadata": {
    "papermill": {
     "duration": 0.042249,
     "end_time": "2021-07-22T06:29:42.409895",
     "exception": false,
     "start_time": "2021-07-22T06:29:42.367646",
     "status": "completed"
    },
    "tags": []
   },
   "source": [
    "### Check for NaN values"
   ]
  },
  {
   "cell_type": "code",
   "execution_count": 5,
   "id": "b90c0e09",
   "metadata": {
    "execution": {
     "iopub.execute_input": "2021-07-22T06:29:42.502828Z",
     "iopub.status.busy": "2021-07-22T06:29:42.501932Z",
     "iopub.status.idle": "2021-07-22T06:29:42.505703Z",
     "shell.execute_reply": "2021-07-22T06:29:42.506311Z",
     "shell.execute_reply.started": "2021-07-22T06:05:44.495158Z"
    },
    "papermill": {
     "duration": 0.054412,
     "end_time": "2021-07-22T06:29:42.506485",
     "exception": false,
     "start_time": "2021-07-22T06:29:42.452073",
     "status": "completed"
    },
    "tags": []
   },
   "outputs": [
    {
     "data": {
      "text/plain": [
       "PassengerId      0\n",
       "Survived         0\n",
       "Pclass           0\n",
       "Name             0\n",
       "Sex              0\n",
       "Age            177\n",
       "SibSp            0\n",
       "Parch            0\n",
       "Ticket           0\n",
       "Fare             0\n",
       "Cabin          687\n",
       "Embarked         2\n",
       "dtype: int64"
      ]
     },
     "execution_count": 5,
     "metadata": {},
     "output_type": "execute_result"
    }
   ],
   "source": [
    "Df.isna().sum()"
   ]
  },
  {
   "cell_type": "code",
   "execution_count": 6,
   "id": "dc933695",
   "metadata": {
    "execution": {
     "iopub.execute_input": "2021-07-22T06:29:42.593666Z",
     "iopub.status.busy": "2021-07-22T06:29:42.592647Z",
     "iopub.status.idle": "2021-07-22T06:29:43.097208Z",
     "shell.execute_reply": "2021-07-22T06:29:43.096633Z",
     "shell.execute_reply.started": "2021-07-22T06:05:44.529956Z"
    },
    "papermill": {
     "duration": 0.548992,
     "end_time": "2021-07-22T06:29:43.097346",
     "exception": false,
     "start_time": "2021-07-22T06:29:42.548354",
     "status": "completed"
    },
    "tags": []
   },
   "outputs": [
    {
     "data": {
      "text/plain": [
       "<AxesSubplot:>"
      ]
     },
     "execution_count": 6,
     "metadata": {},
     "output_type": "execute_result"
    },
    {
     "data": {
      "image/png": "[encoded data removed]",
      "text/plain": [
       "<Figure size 432x288 with 2 Axes>"
      ]
     },
     "metadata": {
      "needs_background": "light"
     },
     "output_type": "display_data"
    }
   ],
   "source": [
    "sns.heatmap(Df.isna())"
   ]
  },
  {
   "cell_type": "code",
   "execution_count": 7,
   "id": "9cafa462",
   "metadata": {
    "execution": {
     "iopub.execute_input": "2021-07-22T06:29:43.202446Z",
     "iopub.status.busy": "2021-07-22T06:29:43.201547Z",
     "iopub.status.idle": "2021-07-22T06:29:43.206787Z",
     "shell.execute_reply": "2021-07-22T06:29:43.206130Z",
     "shell.execute_reply.started": "2021-07-22T06:05:45.032520Z"
    },
    "papermill": {
     "duration": 0.065349,
     "end_time": "2021-07-22T06:29:43.206926",
     "exception": false,
     "start_time": "2021-07-22T06:29:43.141577",
     "status": "completed"
    },
    "tags": []
   },
   "outputs": [
    {
     "data": {
      "text/html": [
       "<div>\n",
       "<style scoped>\n",
       "    .dataframe tbody tr th:only-of-type {\n",
       "        vertical-align: middle;\n",
       "    }\n",
       "\n",
       "    .dataframe tbody tr th {\n",
       "        vertical-align: top;\n",
       "    }\n",
       "\n",
       "    .dataframe thead th {\n",
       "        text-align: right;\n",
       "    }\n",
       "</style>\n",
       "<table border=\"1\" class=\"dataframe\">\n",
       "  <thead>\n",
       "    <tr style=\"text-align: right;\">\n",
       "      <th></th>\n",
       "      <th>Survived</th>\n",
       "      <th>Pclass</th>\n",
       "      <th>Sex</th>\n",
       "      <th>Age</th>\n",
       "      <th>SibSp</th>\n",
       "      <th>Parch</th>\n",
       "      <th>Fare</th>\n",
       "      <th>Embarked</th>\n",
       "    </tr>\n",
       "  </thead>\n",
       "  <tbody>\n",
       "    <tr>\n",
       "      <th>0</th>\n",
       "      <td>0</td>\n",
       "      <td>3</td>\n",
       "      <td>male</td>\n",
       "      <td>22.0</td>\n",
       "      <td>1</td>\n",
       "      <td>0</td>\n",
       "      <td>7.2500</td>\n",
       "      <td>S</td>\n",
       "    </tr>\n",
       "    <tr>\n",
       "      <th>1</th>\n",
       "      <td>1</td>\n",
       "      <td>1</td>\n",
       "      <td>female</td>\n",
       "      <td>38.0</td>\n",
       "      <td>1</td>\n",
       "      <td>0</td>\n",
       "      <td>71.2833</td>\n",
       "      <td>C</td>\n",
       "    </tr>\n",
       "    <tr>\n",
       "      <th>2</th>\n",
       "      <td>1</td>\n",
       "      <td>3</td>\n",
       "      <td>female</td>\n",
       "      <td>26.0</td>\n",
       "      <td>0</td>\n",
       "      <td>0</td>\n",
       "      <td>7.9250</td>\n",
       "      <td>S</td>\n",
       "    </tr>\n",
       "    <tr>\n",
       "      <th>3</th>\n",
       "      <td>1</td>\n",
       "      <td>1</td>\n",
       "      <td>female</td>\n",
       "      <td>35.0</td>\n",
       "      <td>1</td>\n",
       "      <td>0</td>\n",
       "      <td>53.1000</td>\n",
       "      <td>S</td>\n",
       "    </tr>\n",
       "    <tr>\n",
       "      <th>4</th>\n",
       "      <td>0</td>\n",
       "      <td>3</td>\n",
       "      <td>male</td>\n",
       "      <td>35.0</td>\n",
       "      <td>0</td>\n",
       "      <td>0</td>\n",
       "      <td>8.0500</td>\n",
       "      <td>S</td>\n",
       "    </tr>\n",
       "  </tbody>\n",
       "</table>\n",
       "</div>"
      ],
      "text/plain": [
       "   Survived  Pclass     Sex   Age  SibSp  Parch     Fare Embarked\n",
       "0         0       3    male  22.0      1      0   7.2500        S\n",
       "1         1       1  female  38.0      1      0  71.2833        C\n",
       "2         1       3  female  26.0      0      0   7.9250        S\n",
       "3         1       1  female  35.0      1      0  53.1000        S\n",
       "4         0       3    male  35.0      0      0   8.0500        S"
      ]
     },
     "execution_count": 7,
     "metadata": {},
     "output_type": "execute_result"
    }
   ],
   "source": [
    "df = Df.copy()\n",
    "df.drop(axis=1, columns=['PassengerId', 'Name', 'Ticket', 'Cabin'], inplace=True)\n",
    "df.head()"
   ]
  },
  {
   "cell_type": "code",
   "execution_count": 8,
   "id": "8591c45d",
   "metadata": {
    "execution": {
     "iopub.execute_input": "2021-07-22T06:29:43.310727Z",
     "iopub.status.busy": "2021-07-22T06:29:43.309758Z",
     "iopub.status.idle": "2021-07-22T06:29:43.313658Z",
     "shell.execute_reply": "2021-07-22T06:29:43.314104Z",
     "shell.execute_reply.started": "2021-07-22T06:05:45.052115Z"
    },
    "papermill": {
     "duration": 0.063523,
     "end_time": "2021-07-22T06:29:43.314278",
     "exception": false,
     "start_time": "2021-07-22T06:29:43.250755",
     "status": "completed"
    },
    "tags": []
   },
   "outputs": [
    {
     "data": {
      "text/html": [
       "<div>\n",
       "<style scoped>\n",
       "    .dataframe tbody tr th:only-of-type {\n",
       "        vertical-align: middle;\n",
       "    }\n",
       "\n",
       "    .dataframe tbody tr th {\n",
       "        vertical-align: top;\n",
       "    }\n",
       "\n",
       "    .dataframe thead th {\n",
       "        text-align: right;\n",
       "    }\n",
       "</style>\n",
       "<table border=\"1\" class=\"dataframe\">\n",
       "  <thead>\n",
       "    <tr style=\"text-align: right;\">\n",
       "      <th></th>\n",
       "      <th>Survived</th>\n",
       "      <th>Pclass</th>\n",
       "      <th>Age</th>\n",
       "      <th>SibSp</th>\n",
       "      <th>Parch</th>\n",
       "      <th>Fare</th>\n",
       "    </tr>\n",
       "    <tr>\n",
       "      <th>Sex</th>\n",
       "      <th></th>\n",
       "      <th></th>\n",
       "      <th></th>\n",
       "      <th></th>\n",
       "      <th></th>\n",
       "      <th></th>\n",
       "    </tr>\n",
       "  </thead>\n",
       "  <tbody>\n",
       "    <tr>\n",
       "      <th>female</th>\n",
       "      <td>0.742038</td>\n",
       "      <td>2.159236</td>\n",
       "      <td>27.915709</td>\n",
       "      <td>0.694268</td>\n",
       "      <td>0.649682</td>\n",
       "      <td>44.479818</td>\n",
       "    </tr>\n",
       "    <tr>\n",
       "      <th>male</th>\n",
       "      <td>0.188908</td>\n",
       "      <td>2.389948</td>\n",
       "      <td>30.726645</td>\n",
       "      <td>0.429809</td>\n",
       "      <td>0.235702</td>\n",
       "      <td>25.523893</td>\n",
       "    </tr>\n",
       "  </tbody>\n",
       "</table>\n",
       "</div>"
      ],
      "text/plain": [
       "        Survived    Pclass        Age     SibSp     Parch       Fare\n",
       "Sex                                                                 \n",
       "female  0.742038  2.159236  27.915709  0.694268  0.649682  44.479818\n",
       "male    0.188908  2.389948  30.726645  0.429809  0.235702  25.523893"
      ]
     },
     "execution_count": 8,
     "metadata": {},
     "output_type": "execute_result"
    }
   ],
   "source": [
    "df.groupby(by=df['Sex']).mean()"
   ]
  },
  {
   "cell_type": "code",
   "execution_count": 9,
   "id": "74b14b7a",
   "metadata": {
    "execution": {
     "iopub.execute_input": "2021-07-22T06:29:43.411856Z",
     "iopub.status.busy": "2021-07-22T06:29:43.410900Z",
     "iopub.status.idle": "2021-07-22T06:29:43.415296Z",
     "shell.execute_reply": "2021-07-22T06:29:43.415807Z",
     "shell.execute_reply.started": "2021-07-22T06:05:45.080376Z"
    },
    "papermill": {
     "duration": 0.058082,
     "end_time": "2021-07-22T06:29:43.415984",
     "exception": false,
     "start_time": "2021-07-22T06:29:43.357902",
     "status": "completed"
    },
    "tags": []
   },
   "outputs": [
    {
     "data": {
      "text/plain": [
       "male      577\n",
       "female    314\n",
       "Name: Sex, dtype: int64"
      ]
     },
     "execution_count": 9,
     "metadata": {},
     "output_type": "execute_result"
    }
   ],
   "source": [
    "df['Sex'].value_counts()"
   ]
  },
  {
   "cell_type": "code",
   "execution_count": 10,
   "id": "ebb28d60",
   "metadata": {
    "execution": {
     "iopub.execute_input": "2021-07-22T06:29:43.510573Z",
     "iopub.status.busy": "2021-07-22T06:29:43.509891Z",
     "iopub.status.idle": "2021-07-22T06:29:43.514069Z",
     "shell.execute_reply": "2021-07-22T06:29:43.513390Z",
     "shell.execute_reply.started": "2021-07-22T06:05:45.089498Z"
    },
    "papermill": {
     "duration": 0.053881,
     "end_time": "2021-07-22T06:29:43.514209",
     "exception": false,
     "start_time": "2021-07-22T06:29:43.460328",
     "status": "completed"
    },
    "tags": []
   },
   "outputs": [
    {
     "data": {
      "text/plain": [
       "29.69911764705882"
      ]
     },
     "execution_count": 10,
     "metadata": {},
     "output_type": "execute_result"
    }
   ],
   "source": [
    "df['Age'].mean()"
   ]
  },
  {
   "cell_type": "code",
   "execution_count": 11,
   "id": "5d0cbc30",
   "metadata": {
    "execution": {
     "iopub.execute_input": "2021-07-22T06:29:43.613198Z",
     "iopub.status.busy": "2021-07-22T06:29:43.612429Z",
     "iopub.status.idle": "2021-07-22T06:29:43.625307Z",
     "shell.execute_reply": "2021-07-22T06:29:43.624675Z",
     "shell.execute_reply.started": "2021-07-22T06:05:45.102589Z"
    },
    "papermill": {
     "duration": 0.066496,
     "end_time": "2021-07-22T06:29:43.625441",
     "exception": false,
     "start_time": "2021-07-22T06:29:43.558945",
     "status": "completed"
    },
    "tags": []
   },
   "outputs": [
    {
     "data": {
      "text/html": [
       "<div>\n",
       "<style scoped>\n",
       "    .dataframe tbody tr th:only-of-type {\n",
       "        vertical-align: middle;\n",
       "    }\n",
       "\n",
       "    .dataframe tbody tr th {\n",
       "        vertical-align: top;\n",
       "    }\n",
       "\n",
       "    .dataframe thead th {\n",
       "        text-align: right;\n",
       "    }\n",
       "</style>\n",
       "<table border=\"1\" class=\"dataframe\">\n",
       "  <thead>\n",
       "    <tr style=\"text-align: right;\">\n",
       "      <th></th>\n",
       "      <th>Survived</th>\n",
       "      <th>Pclass</th>\n",
       "      <th>Age</th>\n",
       "      <th>SibSp</th>\n",
       "      <th>Parch</th>\n",
       "      <th>Fare</th>\n",
       "    </tr>\n",
       "    <tr>\n",
       "      <th>Embarked</th>\n",
       "      <th></th>\n",
       "      <th></th>\n",
       "      <th></th>\n",
       "      <th></th>\n",
       "      <th></th>\n",
       "      <th></th>\n",
       "    </tr>\n",
       "  </thead>\n",
       "  <tbody>\n",
       "    <tr>\n",
       "      <th>C</th>\n",
       "      <td>0.553571</td>\n",
       "      <td>1.886905</td>\n",
       "      <td>30.814769</td>\n",
       "      <td>0.386905</td>\n",
       "      <td>0.363095</td>\n",
       "      <td>59.954144</td>\n",
       "    </tr>\n",
       "    <tr>\n",
       "      <th>Q</th>\n",
       "      <td>0.389610</td>\n",
       "      <td>2.909091</td>\n",
       "      <td>28.089286</td>\n",
       "      <td>0.428571</td>\n",
       "      <td>0.168831</td>\n",
       "      <td>13.276030</td>\n",
       "    </tr>\n",
       "    <tr>\n",
       "      <th>S</th>\n",
       "      <td>0.336957</td>\n",
       "      <td>2.350932</td>\n",
       "      <td>29.445397</td>\n",
       "      <td>0.571429</td>\n",
       "      <td>0.413043</td>\n",
       "      <td>27.079812</td>\n",
       "    </tr>\n",
       "  </tbody>\n",
       "</table>\n",
       "</div>"
      ],
      "text/plain": [
       "          Survived    Pclass        Age     SibSp     Parch       Fare\n",
       "Embarked                                                              \n",
       "C         0.553571  1.886905  30.814769  0.386905  0.363095  59.954144\n",
       "Q         0.389610  2.909091  28.089286  0.428571  0.168831  13.276030\n",
       "S         0.336957  2.350932  29.445397  0.571429  0.413043  27.079812"
      ]
     },
     "execution_count": 11,
     "metadata": {},
     "output_type": "execute_result"
    }
   ],
   "source": [
    "df.groupby(df['Embarked']).mean()"
   ]
  },
  {
   "cell_type": "code",
   "execution_count": 12,
   "id": "2390e424",
   "metadata": {
    "execution": {
     "iopub.execute_input": "2021-07-22T06:29:43.722431Z",
     "iopub.status.busy": "2021-07-22T06:29:43.721714Z",
     "iopub.status.idle": "2021-07-22T06:29:43.730622Z",
     "shell.execute_reply": "2021-07-22T06:29:43.729956Z",
     "shell.execute_reply.started": "2021-07-22T06:05:45.132999Z"
    },
    "papermill": {
     "duration": 0.059722,
     "end_time": "2021-07-22T06:29:43.730774",
     "exception": false,
     "start_time": "2021-07-22T06:29:43.671052",
     "status": "completed"
    },
    "tags": []
   },
   "outputs": [
    {
     "data": {
      "text/plain": [
       "count    891.000000\n",
       "mean      32.204208\n",
       "std       49.693429\n",
       "min        0.000000\n",
       "25%        7.910400\n",
       "50%       14.454200\n",
       "75%       31.000000\n",
       "max      512.329200\n",
       "Name: Fare, dtype: float64"
      ]
     },
     "execution_count": 12,
     "metadata": {},
     "output_type": "execute_result"
    }
   ],
   "source": [
    "df['Fare'].describe()"
   ]
  },
  {
   "cell_type": "code",
   "execution_count": 13,
   "id": "5fe5a2fa",
   "metadata": {
    "execution": {
     "iopub.execute_input": "2021-07-22T06:29:43.841614Z",
     "iopub.status.busy": "2021-07-22T06:29:43.840626Z",
     "iopub.status.idle": "2021-07-22T06:29:43.845454Z",
     "shell.execute_reply": "2021-07-22T06:29:43.844873Z",
     "shell.execute_reply.started": "2021-07-22T06:05:45.150053Z"
    },
    "papermill": {
     "duration": 0.069172,
     "end_time": "2021-07-22T06:29:43.845616",
     "exception": false,
     "start_time": "2021-07-22T06:29:43.776444",
     "status": "completed"
    },
    "tags": []
   },
   "outputs": [
    {
     "data": {
      "text/html": [
       "<div>\n",
       "<style scoped>\n",
       "    .dataframe tbody tr th:only-of-type {\n",
       "        vertical-align: middle;\n",
       "    }\n",
       "\n",
       "    .dataframe tbody tr th {\n",
       "        vertical-align: top;\n",
       "    }\n",
       "\n",
       "    .dataframe thead th {\n",
       "        text-align: right;\n",
       "    }\n",
       "</style>\n",
       "<table border=\"1\" class=\"dataframe\">\n",
       "  <thead>\n",
       "    <tr style=\"text-align: right;\">\n",
       "      <th></th>\n",
       "      <th>Survived</th>\n",
       "      <th>Age</th>\n",
       "      <th>Fare</th>\n",
       "    </tr>\n",
       "  </thead>\n",
       "  <tbody>\n",
       "    <tr>\n",
       "      <th>0</th>\n",
       "      <td>0</td>\n",
       "      <td>22.0</td>\n",
       "      <td>7.2500</td>\n",
       "    </tr>\n",
       "    <tr>\n",
       "      <th>4</th>\n",
       "      <td>0</td>\n",
       "      <td>35.0</td>\n",
       "      <td>8.0500</td>\n",
       "    </tr>\n",
       "    <tr>\n",
       "      <th>5</th>\n",
       "      <td>0</td>\n",
       "      <td>NaN</td>\n",
       "      <td>8.4583</td>\n",
       "    </tr>\n",
       "    <tr>\n",
       "      <th>6</th>\n",
       "      <td>0</td>\n",
       "      <td>54.0</td>\n",
       "      <td>51.8625</td>\n",
       "    </tr>\n",
       "    <tr>\n",
       "      <th>7</th>\n",
       "      <td>0</td>\n",
       "      <td>2.0</td>\n",
       "      <td>21.0750</td>\n",
       "    </tr>\n",
       "    <tr>\n",
       "      <th>...</th>\n",
       "      <td>...</td>\n",
       "      <td>...</td>\n",
       "      <td>...</td>\n",
       "    </tr>\n",
       "    <tr>\n",
       "      <th>883</th>\n",
       "      <td>0</td>\n",
       "      <td>28.0</td>\n",
       "      <td>10.5000</td>\n",
       "    </tr>\n",
       "    <tr>\n",
       "      <th>884</th>\n",
       "      <td>0</td>\n",
       "      <td>25.0</td>\n",
       "      <td>7.0500</td>\n",
       "    </tr>\n",
       "    <tr>\n",
       "      <th>886</th>\n",
       "      <td>0</td>\n",
       "      <td>27.0</td>\n",
       "      <td>13.0000</td>\n",
       "    </tr>\n",
       "    <tr>\n",
       "      <th>889</th>\n",
       "      <td>1</td>\n",
       "      <td>26.0</td>\n",
       "      <td>30.0000</td>\n",
       "    </tr>\n",
       "    <tr>\n",
       "      <th>890</th>\n",
       "      <td>0</td>\n",
       "      <td>32.0</td>\n",
       "      <td>7.7500</td>\n",
       "    </tr>\n",
       "  </tbody>\n",
       "</table>\n",
       "<p>577 rows × 3 columns</p>\n",
       "</div>"
      ],
      "text/plain": [
       "     Survived   Age     Fare\n",
       "0           0  22.0   7.2500\n",
       "4           0  35.0   8.0500\n",
       "5           0   NaN   8.4583\n",
       "6           0  54.0  51.8625\n",
       "7           0   2.0  21.0750\n",
       "..        ...   ...      ...\n",
       "883         0  28.0  10.5000\n",
       "884         0  25.0   7.0500\n",
       "886         0  27.0  13.0000\n",
       "889         1  26.0  30.0000\n",
       "890         0  32.0   7.7500\n",
       "\n",
       "[577 rows x 3 columns]"
      ]
     },
     "execution_count": 13,
     "metadata": {},
     "output_type": "execute_result"
    }
   ],
   "source": [
    "df2 = df.loc[(df['Sex']=='male'), ['Survived', 'Age', 'Fare']]\n",
    "df2"
   ]
  },
  {
   "cell_type": "code",
   "execution_count": 14,
   "id": "4f78a8a9",
   "metadata": {
    "execution": {
     "iopub.execute_input": "2021-07-22T06:29:43.945136Z",
     "iopub.status.busy": "2021-07-22T06:29:43.944439Z",
     "iopub.status.idle": "2021-07-22T06:29:43.968067Z",
     "shell.execute_reply": "2021-07-22T06:29:43.968559Z",
     "shell.execute_reply.started": "2021-07-22T06:05:45.176043Z"
    },
    "papermill": {
     "duration": 0.0757,
     "end_time": "2021-07-22T06:29:43.968740",
     "exception": false,
     "start_time": "2021-07-22T06:29:43.893040",
     "status": "completed"
    },
    "tags": []
   },
   "outputs": [
    {
     "data": {
      "text/plain": [
       "count    109.000000\n",
       "mean      40.821484\n",
       "std       71.355967\n",
       "min        0.000000\n",
       "25%        9.500000\n",
       "50%       26.287500\n",
       "75%       39.000000\n",
       "max      512.329200\n",
       "Name: Fare, dtype: float64"
      ]
     },
     "execution_count": 14,
     "metadata": {},
     "output_type": "execute_result"
    }
   ],
   "source": [
    "df2.loc[df2['Survived']==1, 'Fare'].describe()"
   ]
  },
  {
   "cell_type": "markdown",
   "id": "e6ab491c",
   "metadata": {
    "papermill": {
     "duration": 0.047262,
     "end_time": "2021-07-22T06:29:44.063336",
     "exception": false,
     "start_time": "2021-07-22T06:29:44.016074",
     "status": "completed"
    },
    "tags": []
   },
   "source": [
    "109 Males survived"
   ]
  },
  {
   "cell_type": "code",
   "execution_count": 15,
   "id": "df3bb803",
   "metadata": {
    "execution": {
     "iopub.execute_input": "2021-07-22T06:29:44.160740Z",
     "iopub.status.busy": "2021-07-22T06:29:44.160064Z",
     "iopub.status.idle": "2021-07-22T06:29:44.177446Z",
     "shell.execute_reply": "2021-07-22T06:29:44.176857Z",
     "shell.execute_reply.started": "2021-07-22T06:05:45.197592Z"
    },
    "papermill": {
     "duration": 0.066741,
     "end_time": "2021-07-22T06:29:44.177622",
     "exception": false,
     "start_time": "2021-07-22T06:29:44.110881",
     "status": "completed"
    },
    "tags": []
   },
   "outputs": [
    {
     "data": {
      "text/html": [
       "<div>\n",
       "<style scoped>\n",
       "    .dataframe tbody tr th:only-of-type {\n",
       "        vertical-align: middle;\n",
       "    }\n",
       "\n",
       "    .dataframe tbody tr th {\n",
       "        vertical-align: top;\n",
       "    }\n",
       "\n",
       "    .dataframe thead th {\n",
       "        text-align: right;\n",
       "    }\n",
       "</style>\n",
       "<table border=\"1\" class=\"dataframe\">\n",
       "  <thead>\n",
       "    <tr style=\"text-align: right;\">\n",
       "      <th></th>\n",
       "      <th>Survived</th>\n",
       "      <th>Age</th>\n",
       "      <th>Fare</th>\n",
       "    </tr>\n",
       "  </thead>\n",
       "  <tbody>\n",
       "    <tr>\n",
       "      <th>1</th>\n",
       "      <td>1</td>\n",
       "      <td>38.0</td>\n",
       "      <td>71.2833</td>\n",
       "    </tr>\n",
       "    <tr>\n",
       "      <th>2</th>\n",
       "      <td>1</td>\n",
       "      <td>26.0</td>\n",
       "      <td>7.9250</td>\n",
       "    </tr>\n",
       "    <tr>\n",
       "      <th>3</th>\n",
       "      <td>1</td>\n",
       "      <td>35.0</td>\n",
       "      <td>53.1000</td>\n",
       "    </tr>\n",
       "    <tr>\n",
       "      <th>8</th>\n",
       "      <td>1</td>\n",
       "      <td>27.0</td>\n",
       "      <td>11.1333</td>\n",
       "    </tr>\n",
       "    <tr>\n",
       "      <th>9</th>\n",
       "      <td>1</td>\n",
       "      <td>14.0</td>\n",
       "      <td>30.0708</td>\n",
       "    </tr>\n",
       "    <tr>\n",
       "      <th>...</th>\n",
       "      <td>...</td>\n",
       "      <td>...</td>\n",
       "      <td>...</td>\n",
       "    </tr>\n",
       "    <tr>\n",
       "      <th>880</th>\n",
       "      <td>1</td>\n",
       "      <td>25.0</td>\n",
       "      <td>26.0000</td>\n",
       "    </tr>\n",
       "    <tr>\n",
       "      <th>882</th>\n",
       "      <td>0</td>\n",
       "      <td>22.0</td>\n",
       "      <td>10.5167</td>\n",
       "    </tr>\n",
       "    <tr>\n",
       "      <th>885</th>\n",
       "      <td>0</td>\n",
       "      <td>39.0</td>\n",
       "      <td>29.1250</td>\n",
       "    </tr>\n",
       "    <tr>\n",
       "      <th>887</th>\n",
       "      <td>1</td>\n",
       "      <td>19.0</td>\n",
       "      <td>30.0000</td>\n",
       "    </tr>\n",
       "    <tr>\n",
       "      <th>888</th>\n",
       "      <td>0</td>\n",
       "      <td>NaN</td>\n",
       "      <td>23.4500</td>\n",
       "    </tr>\n",
       "  </tbody>\n",
       "</table>\n",
       "<p>314 rows × 3 columns</p>\n",
       "</div>"
      ],
      "text/plain": [
       "     Survived   Age     Fare\n",
       "1           1  38.0  71.2833\n",
       "2           1  26.0   7.9250\n",
       "3           1  35.0  53.1000\n",
       "8           1  27.0  11.1333\n",
       "9           1  14.0  30.0708\n",
       "..        ...   ...      ...\n",
       "880         1  25.0  26.0000\n",
       "882         0  22.0  10.5167\n",
       "885         0  39.0  29.1250\n",
       "887         1  19.0  30.0000\n",
       "888         0   NaN  23.4500\n",
       "\n",
       "[314 rows x 3 columns]"
      ]
     },
     "execution_count": 15,
     "metadata": {},
     "output_type": "execute_result"
    }
   ],
   "source": [
    "df3 = df.loc[(df['Sex']=='female'), ['Survived', 'Age', 'Fare']]\n",
    "df3"
   ]
  },
  {
   "cell_type": "code",
   "execution_count": 16,
   "id": "90546e69",
   "metadata": {
    "execution": {
     "iopub.execute_input": "2021-07-22T06:29:44.282128Z",
     "iopub.status.busy": "2021-07-22T06:29:44.278223Z",
     "iopub.status.idle": "2021-07-22T06:29:44.285423Z",
     "shell.execute_reply": "2021-07-22T06:29:44.285909Z",
     "shell.execute_reply.started": "2021-07-22T06:05:45.223667Z"
    },
    "papermill": {
     "duration": 0.061341,
     "end_time": "2021-07-22T06:29:44.286095",
     "exception": false,
     "start_time": "2021-07-22T06:29:44.224754",
     "status": "completed"
    },
    "tags": []
   },
   "outputs": [
    {
     "data": {
      "text/plain": [
       "count    233.000000\n",
       "mean      51.938573\n",
       "std       64.102256\n",
       "min        7.225000\n",
       "25%       13.000000\n",
       "50%       26.000000\n",
       "75%       76.291700\n",
       "max      512.329200\n",
       "Name: Fare, dtype: float64"
      ]
     },
     "execution_count": 16,
     "metadata": {},
     "output_type": "execute_result"
    }
   ],
   "source": [
    "df3.loc[df3['Survived']==1, 'Fare'].describe()"
   ]
  },
  {
   "cell_type": "markdown",
   "id": "a2b6580e",
   "metadata": {
    "papermill": {
     "duration": 0.04788,
     "end_time": "2021-07-22T06:29:44.383077",
     "exception": false,
     "start_time": "2021-07-22T06:29:44.335197",
     "status": "completed"
    },
    "tags": []
   },
   "source": [
    "233 Females survived.\n",
    "So, total number of people survived = 342"
   ]
  },
  {
   "cell_type": "code",
   "execution_count": 17,
   "id": "86999a50",
   "metadata": {
    "execution": {
     "iopub.execute_input": "2021-07-22T06:29:44.481454Z",
     "iopub.status.busy": "2021-07-22T06:29:44.480810Z",
     "iopub.status.idle": "2021-07-22T06:29:44.492057Z",
     "shell.execute_reply": "2021-07-22T06:29:44.491373Z",
     "shell.execute_reply.started": "2021-07-22T06:05:45.245711Z"
    },
    "papermill": {
     "duration": 0.06187,
     "end_time": "2021-07-22T06:29:44.492202",
     "exception": false,
     "start_time": "2021-07-22T06:29:44.430332",
     "status": "completed"
    },
    "tags": []
   },
   "outputs": [
    {
     "data": {
      "text/plain": [
       "count    93.000000\n",
       "mean     27.276022\n",
       "std      16.504803\n",
       "min       0.420000\n",
       "25%      18.000000\n",
       "50%      28.000000\n",
       "75%      36.000000\n",
       "max      80.000000\n",
       "Name: Age, dtype: float64"
      ]
     },
     "execution_count": 17,
     "metadata": {},
     "output_type": "execute_result"
    }
   ],
   "source": [
    "df2.loc[df2['Survived']==1, 'Age'].describe()"
   ]
  },
  {
   "cell_type": "code",
   "execution_count": 18,
   "id": "8d2ce3aa",
   "metadata": {
    "execution": {
     "iopub.execute_input": "2021-07-22T06:29:44.591959Z",
     "iopub.status.busy": "2021-07-22T06:29:44.590958Z",
     "iopub.status.idle": "2021-07-22T06:29:44.601562Z",
     "shell.execute_reply": "2021-07-22T06:29:44.602073Z",
     "shell.execute_reply.started": "2021-07-22T06:05:45.261029Z"
    },
    "papermill": {
     "duration": 0.061603,
     "end_time": "2021-07-22T06:29:44.602255",
     "exception": false,
     "start_time": "2021-07-22T06:29:44.540652",
     "status": "completed"
    },
    "tags": []
   },
   "outputs": [
    {
     "data": {
      "text/plain": [
       "count    197.000000\n",
       "mean      28.847716\n",
       "std       14.175073\n",
       "min        0.750000\n",
       "25%       19.000000\n",
       "50%       28.000000\n",
       "75%       38.000000\n",
       "max       63.000000\n",
       "Name: Age, dtype: float64"
      ]
     },
     "execution_count": 18,
     "metadata": {},
     "output_type": "execute_result"
    }
   ],
   "source": [
    "df3.loc[df3['Survived']==1, 'Age'].describe()"
   ]
  },
  {
   "cell_type": "markdown",
   "id": "5b70cd6f",
   "metadata": {
    "papermill": {
     "duration": 0.047876,
     "end_time": "2021-07-22T06:29:44.698679",
     "exception": false,
     "start_time": "2021-07-22T06:29:44.650803",
     "status": "completed"
    },
    "tags": []
   },
   "source": [
    "The overall 'Age' mean and 'Age' mean for those who survived do not vary enough to consider differently, for both males and females. So, let's fill NaN values in 'Age' values by overall mean."
   ]
  },
  {
   "cell_type": "code",
   "execution_count": 19,
   "id": "081d51c9",
   "metadata": {
    "execution": {
     "iopub.execute_input": "2021-07-22T06:29:44.799759Z",
     "iopub.status.busy": "2021-07-22T06:29:44.798732Z",
     "iopub.status.idle": "2021-07-22T06:29:44.808649Z",
     "shell.execute_reply": "2021-07-22T06:29:44.809161Z",
     "shell.execute_reply.started": "2021-07-22T06:05:45.280826Z"
    },
    "papermill": {
     "duration": 0.062274,
     "end_time": "2021-07-22T06:29:44.809346",
     "exception": false,
     "start_time": "2021-07-22T06:29:44.747072",
     "status": "completed"
    },
    "tags": []
   },
   "outputs": [],
   "source": [
    "df.loc[df['Sex']=='female', 'Age'] = df.loc[df['Sex']=='female', 'Age'].fillna(value=27.9157)\n",
    "df.loc[df['Sex']=='male', 'Age'] = df.loc[df['Sex']=='male', 'Age'].fillna(value=30.7266)"
   ]
  },
  {
   "cell_type": "code",
   "execution_count": 20,
   "id": "d7173d82",
   "metadata": {
    "execution": {
     "iopub.execute_input": "2021-07-22T06:29:44.911139Z",
     "iopub.status.busy": "2021-07-22T06:29:44.910164Z",
     "iopub.status.idle": "2021-07-22T06:29:44.918763Z",
     "shell.execute_reply": "2021-07-22T06:29:44.919255Z",
     "shell.execute_reply.started": "2021-07-22T06:05:45.296444Z"
    },
    "papermill": {
     "duration": 0.061574,
     "end_time": "2021-07-22T06:29:44.919423",
     "exception": false,
     "start_time": "2021-07-22T06:29:44.857849",
     "status": "completed"
    },
    "tags": []
   },
   "outputs": [
    {
     "data": {
      "text/plain": [
       "Survived    0\n",
       "Pclass      0\n",
       "Sex         0\n",
       "Age         0\n",
       "SibSp       0\n",
       "Parch       0\n",
       "Fare        0\n",
       "Embarked    2\n",
       "dtype: int64"
      ]
     },
     "execution_count": 20,
     "metadata": {},
     "output_type": "execute_result"
    }
   ],
   "source": [
    "df.isnull().sum()"
   ]
  },
  {
   "cell_type": "code",
   "execution_count": 21,
   "id": "e469733c",
   "metadata": {
    "execution": {
     "iopub.execute_input": "2021-07-22T06:29:45.020316Z",
     "iopub.status.busy": "2021-07-22T06:29:45.019332Z",
     "iopub.status.idle": "2021-07-22T06:29:45.026289Z",
     "shell.execute_reply": "2021-07-22T06:29:45.026756Z",
     "shell.execute_reply.started": "2021-07-22T06:05:45.312200Z"
    },
    "papermill": {
     "duration": 0.059282,
     "end_time": "2021-07-22T06:29:45.026934",
     "exception": false,
     "start_time": "2021-07-22T06:29:44.967652",
     "status": "completed"
    },
    "tags": []
   },
   "outputs": [],
   "source": [
    "df.dropna(inplace=True)"
   ]
  },
  {
   "cell_type": "markdown",
   "id": "2c704164",
   "metadata": {
    "papermill": {
     "duration": 0.048486,
     "end_time": "2021-07-22T06:29:45.123880",
     "exception": false,
     "start_time": "2021-07-22T06:29:45.075394",
     "status": "completed"
    },
    "tags": []
   },
   "source": [
    "## Handle with categorical features"
   ]
  },
  {
   "cell_type": "code",
   "execution_count": 22,
   "id": "9c0a6f4e",
   "metadata": {
    "execution": {
     "iopub.execute_input": "2021-07-22T06:29:45.224618Z",
     "iopub.status.busy": "2021-07-22T06:29:45.223634Z",
     "iopub.status.idle": "2021-07-22T06:29:45.236113Z",
     "shell.execute_reply": "2021-07-22T06:29:45.236596Z",
     "shell.execute_reply.started": "2021-07-22T06:05:45.322691Z"
    },
    "papermill": {
     "duration": 0.064147,
     "end_time": "2021-07-22T06:29:45.236780",
     "exception": false,
     "start_time": "2021-07-22T06:29:45.172633",
     "status": "completed"
    },
    "tags": []
   },
   "outputs": [
    {
     "data": {
      "text/html": [
       "<div>\n",
       "<style scoped>\n",
       "    .dataframe tbody tr th:only-of-type {\n",
       "        vertical-align: middle;\n",
       "    }\n",
       "\n",
       "    .dataframe tbody tr th {\n",
       "        vertical-align: top;\n",
       "    }\n",
       "\n",
       "    .dataframe thead th {\n",
       "        text-align: right;\n",
       "    }\n",
       "</style>\n",
       "<table border=\"1\" class=\"dataframe\">\n",
       "  <thead>\n",
       "    <tr style=\"text-align: right;\">\n",
       "      <th></th>\n",
       "      <th>male</th>\n",
       "    </tr>\n",
       "  </thead>\n",
       "  <tbody>\n",
       "    <tr>\n",
       "      <th>0</th>\n",
       "      <td>1</td>\n",
       "    </tr>\n",
       "    <tr>\n",
       "      <th>1</th>\n",
       "      <td>0</td>\n",
       "    </tr>\n",
       "    <tr>\n",
       "      <th>2</th>\n",
       "      <td>0</td>\n",
       "    </tr>\n",
       "    <tr>\n",
       "      <th>3</th>\n",
       "      <td>0</td>\n",
       "    </tr>\n",
       "    <tr>\n",
       "      <th>4</th>\n",
       "      <td>1</td>\n",
       "    </tr>\n",
       "  </tbody>\n",
       "</table>\n",
       "</div>"
      ],
      "text/plain": [
       "   male\n",
       "0     1\n",
       "1     0\n",
       "2     0\n",
       "3     0\n",
       "4     1"
      ]
     },
     "execution_count": 22,
     "metadata": {},
     "output_type": "execute_result"
    }
   ],
   "source": [
    "gender_dummy = pd.get_dummies(df['Sex'], drop_first=True)\n",
    "gender_dummy.head()"
   ]
  },
  {
   "cell_type": "code",
   "execution_count": 23,
   "id": "8530356a",
   "metadata": {
    "execution": {
     "iopub.execute_input": "2021-07-22T06:29:45.338792Z",
     "iopub.status.busy": "2021-07-22T06:29:45.337814Z",
     "iopub.status.idle": "2021-07-22T06:29:45.348318Z",
     "shell.execute_reply": "2021-07-22T06:29:45.348850Z",
     "shell.execute_reply.started": "2021-07-22T06:05:45.337893Z"
    },
    "papermill": {
     "duration": 0.063583,
     "end_time": "2021-07-22T06:29:45.349021",
     "exception": false,
     "start_time": "2021-07-22T06:29:45.285438",
     "status": "completed"
    },
    "tags": []
   },
   "outputs": [
    {
     "data": {
      "text/html": [
       "<div>\n",
       "<style scoped>\n",
       "    .dataframe tbody tr th:only-of-type {\n",
       "        vertical-align: middle;\n",
       "    }\n",
       "\n",
       "    .dataframe tbody tr th {\n",
       "        vertical-align: top;\n",
       "    }\n",
       "\n",
       "    .dataframe thead th {\n",
       "        text-align: right;\n",
       "    }\n",
       "</style>\n",
       "<table border=\"1\" class=\"dataframe\">\n",
       "  <thead>\n",
       "    <tr style=\"text-align: right;\">\n",
       "      <th></th>\n",
       "      <th>Q</th>\n",
       "      <th>S</th>\n",
       "    </tr>\n",
       "  </thead>\n",
       "  <tbody>\n",
       "    <tr>\n",
       "      <th>0</th>\n",
       "      <td>0</td>\n",
       "      <td>1</td>\n",
       "    </tr>\n",
       "    <tr>\n",
       "      <th>1</th>\n",
       "      <td>0</td>\n",
       "      <td>0</td>\n",
       "    </tr>\n",
       "    <tr>\n",
       "      <th>2</th>\n",
       "      <td>0</td>\n",
       "      <td>1</td>\n",
       "    </tr>\n",
       "    <tr>\n",
       "      <th>3</th>\n",
       "      <td>0</td>\n",
       "      <td>1</td>\n",
       "    </tr>\n",
       "    <tr>\n",
       "      <th>4</th>\n",
       "      <td>0</td>\n",
       "      <td>1</td>\n",
       "    </tr>\n",
       "  </tbody>\n",
       "</table>\n",
       "</div>"
      ],
      "text/plain": [
       "   Q  S\n",
       "0  0  1\n",
       "1  0  0\n",
       "2  0  1\n",
       "3  0  1\n",
       "4  0  1"
      ]
     },
     "execution_count": 23,
     "metadata": {},
     "output_type": "execute_result"
    }
   ],
   "source": [
    "embarked_dummy = pd.get_dummies(df['Embarked'], drop_first=True)\n",
    "embarked_dummy.head()"
   ]
  },
  {
   "cell_type": "code",
   "execution_count": 24,
   "id": "9ddeef74",
   "metadata": {
    "execution": {
     "iopub.execute_input": "2021-07-22T06:29:45.453263Z",
     "iopub.status.busy": "2021-07-22T06:29:45.452283Z",
     "iopub.status.idle": "2021-07-22T06:29:45.471333Z",
     "shell.execute_reply": "2021-07-22T06:29:45.471925Z",
     "shell.execute_reply.started": "2021-07-22T06:05:45.358130Z"
    },
    "papermill": {
     "duration": 0.072008,
     "end_time": "2021-07-22T06:29:45.472112",
     "exception": false,
     "start_time": "2021-07-22T06:29:45.400104",
     "status": "completed"
    },
    "tags": []
   },
   "outputs": [
    {
     "data": {
      "text/html": [
       "<div>\n",
       "<style scoped>\n",
       "    .dataframe tbody tr th:only-of-type {\n",
       "        vertical-align: middle;\n",
       "    }\n",
       "\n",
       "    .dataframe tbody tr th {\n",
       "        vertical-align: top;\n",
       "    }\n",
       "\n",
       "    .dataframe thead th {\n",
       "        text-align: right;\n",
       "    }\n",
       "</style>\n",
       "<table border=\"1\" class=\"dataframe\">\n",
       "  <thead>\n",
       "    <tr style=\"text-align: right;\">\n",
       "      <th></th>\n",
       "      <th>Survived</th>\n",
       "      <th>Pclass</th>\n",
       "      <th>Age</th>\n",
       "      <th>SibSp</th>\n",
       "      <th>Parch</th>\n",
       "      <th>Fare</th>\n",
       "      <th>male</th>\n",
       "      <th>Q</th>\n",
       "      <th>S</th>\n",
       "    </tr>\n",
       "  </thead>\n",
       "  <tbody>\n",
       "    <tr>\n",
       "      <th>0</th>\n",
       "      <td>0</td>\n",
       "      <td>3</td>\n",
       "      <td>22.0</td>\n",
       "      <td>1</td>\n",
       "      <td>0</td>\n",
       "      <td>7.2500</td>\n",
       "      <td>1</td>\n",
       "      <td>0</td>\n",
       "      <td>1</td>\n",
       "    </tr>\n",
       "    <tr>\n",
       "      <th>1</th>\n",
       "      <td>1</td>\n",
       "      <td>1</td>\n",
       "      <td>38.0</td>\n",
       "      <td>1</td>\n",
       "      <td>0</td>\n",
       "      <td>71.2833</td>\n",
       "      <td>0</td>\n",
       "      <td>0</td>\n",
       "      <td>0</td>\n",
       "    </tr>\n",
       "    <tr>\n",
       "      <th>2</th>\n",
       "      <td>1</td>\n",
       "      <td>3</td>\n",
       "      <td>26.0</td>\n",
       "      <td>0</td>\n",
       "      <td>0</td>\n",
       "      <td>7.9250</td>\n",
       "      <td>0</td>\n",
       "      <td>0</td>\n",
       "      <td>1</td>\n",
       "    </tr>\n",
       "    <tr>\n",
       "      <th>3</th>\n",
       "      <td>1</td>\n",
       "      <td>1</td>\n",
       "      <td>35.0</td>\n",
       "      <td>1</td>\n",
       "      <td>0</td>\n",
       "      <td>53.1000</td>\n",
       "      <td>0</td>\n",
       "      <td>0</td>\n",
       "      <td>1</td>\n",
       "    </tr>\n",
       "    <tr>\n",
       "      <th>4</th>\n",
       "      <td>0</td>\n",
       "      <td>3</td>\n",
       "      <td>35.0</td>\n",
       "      <td>0</td>\n",
       "      <td>0</td>\n",
       "      <td>8.0500</td>\n",
       "      <td>1</td>\n",
       "      <td>0</td>\n",
       "      <td>1</td>\n",
       "    </tr>\n",
       "  </tbody>\n",
       "</table>\n",
       "</div>"
      ],
      "text/plain": [
       "   Survived  Pclass   Age  SibSp  Parch     Fare  male  Q  S\n",
       "0         0       3  22.0      1      0   7.2500     1  0  1\n",
       "1         1       1  38.0      1      0  71.2833     0  0  0\n",
       "2         1       3  26.0      0      0   7.9250     0  0  1\n",
       "3         1       1  35.0      1      0  53.1000     0  0  1\n",
       "4         0       3  35.0      0      0   8.0500     1  0  1"
      ]
     },
     "execution_count": 24,
     "metadata": {},
     "output_type": "execute_result"
    }
   ],
   "source": [
    "df = pd.concat([df, gender_dummy, embarked_dummy], axis=1)\n",
    "df.drop(columns=['Sex', 'Embarked'], axis=1, inplace=True)\n",
    "df.head()"
   ]
  },
  {
   "cell_type": "markdown",
   "id": "69c50511",
   "metadata": {
    "papermill": {
     "duration": 0.049376,
     "end_time": "2021-07-22T06:29:45.571279",
     "exception": false,
     "start_time": "2021-07-22T06:29:45.521903",
     "status": "completed"
    },
    "tags": []
   },
   "source": [
    "## Load test dataset"
   ]
  },
  {
   "cell_type": "code",
   "execution_count": 25,
   "id": "48d121b7",
   "metadata": {
    "execution": {
     "iopub.execute_input": "2021-07-22T06:29:45.676199Z",
     "iopub.status.busy": "2021-07-22T06:29:45.675512Z",
     "iopub.status.idle": "2021-07-22T06:29:45.697688Z",
     "shell.execute_reply": "2021-07-22T06:29:45.698149Z",
     "shell.execute_reply.started": "2021-07-22T06:05:45.387849Z"
    },
    "papermill": {
     "duration": 0.077059,
     "end_time": "2021-07-22T06:29:45.698326",
     "exception": false,
     "start_time": "2021-07-22T06:29:45.621267",
     "status": "completed"
    },
    "tags": []
   },
   "outputs": [
    {
     "data": {
      "text/html": [
       "<div>\n",
       "<style scoped>\n",
       "    .dataframe tbody tr th:only-of-type {\n",
       "        vertical-align: middle;\n",
       "    }\n",
       "\n",
       "    .dataframe tbody tr th {\n",
       "        vertical-align: top;\n",
       "    }\n",
       "\n",
       "    .dataframe thead th {\n",
       "        text-align: right;\n",
       "    }\n",
       "</style>\n",
       "<table border=\"1\" class=\"dataframe\">\n",
       "  <thead>\n",
       "    <tr style=\"text-align: right;\">\n",
       "      <th></th>\n",
       "      <th>PassengerId</th>\n",
       "      <th>Pclass</th>\n",
       "      <th>Name</th>\n",
       "      <th>Sex</th>\n",
       "      <th>Age</th>\n",
       "      <th>SibSp</th>\n",
       "      <th>Parch</th>\n",
       "      <th>Ticket</th>\n",
       "      <th>Fare</th>\n",
       "      <th>Cabin</th>\n",
       "      <th>Embarked</th>\n",
       "    </tr>\n",
       "  </thead>\n",
       "  <tbody>\n",
       "    <tr>\n",
       "      <th>0</th>\n",
       "      <td>892</td>\n",
       "      <td>3</td>\n",
       "      <td>Kelly, Mr. James</td>\n",
       "      <td>male</td>\n",
       "      <td>34.5</td>\n",
       "      <td>0</td>\n",
       "      <td>0</td>\n",
       "      <td>330911</td>\n",
       "      <td>7.8292</td>\n",
       "      <td>NaN</td>\n",
       "      <td>Q</td>\n",
       "    </tr>\n",
       "    <tr>\n",
       "      <th>1</th>\n",
       "      <td>893</td>\n",
       "      <td>3</td>\n",
       "      <td>Wilkes, Mrs. James (Ellen Needs)</td>\n",
       "      <td>female</td>\n",
       "      <td>47.0</td>\n",
       "      <td>1</td>\n",
       "      <td>0</td>\n",
       "      <td>363272</td>\n",
       "      <td>7.0000</td>\n",
       "      <td>NaN</td>\n",
       "      <td>S</td>\n",
       "    </tr>\n",
       "    <tr>\n",
       "      <th>2</th>\n",
       "      <td>894</td>\n",
       "      <td>2</td>\n",
       "      <td>Myles, Mr. Thomas Francis</td>\n",
       "      <td>male</td>\n",
       "      <td>62.0</td>\n",
       "      <td>0</td>\n",
       "      <td>0</td>\n",
       "      <td>240276</td>\n",
       "      <td>9.6875</td>\n",
       "      <td>NaN</td>\n",
       "      <td>Q</td>\n",
       "    </tr>\n",
       "    <tr>\n",
       "      <th>3</th>\n",
       "      <td>895</td>\n",
       "      <td>3</td>\n",
       "      <td>Wirz, Mr. Albert</td>\n",
       "      <td>male</td>\n",
       "      <td>27.0</td>\n",
       "      <td>0</td>\n",
       "      <td>0</td>\n",
       "      <td>315154</td>\n",
       "      <td>8.6625</td>\n",
       "      <td>NaN</td>\n",
       "      <td>S</td>\n",
       "    </tr>\n",
       "    <tr>\n",
       "      <th>4</th>\n",
       "      <td>896</td>\n",
       "      <td>3</td>\n",
       "      <td>Hirvonen, Mrs. Alexander (Helga E Lindqvist)</td>\n",
       "      <td>female</td>\n",
       "      <td>22.0</td>\n",
       "      <td>1</td>\n",
       "      <td>1</td>\n",
       "      <td>3101298</td>\n",
       "      <td>12.2875</td>\n",
       "      <td>NaN</td>\n",
       "      <td>S</td>\n",
       "    </tr>\n",
       "  </tbody>\n",
       "</table>\n",
       "</div>"
      ],
      "text/plain": [
       "   PassengerId  Pclass                                          Name     Sex  \\\n",
       "0          892       3                              Kelly, Mr. James    male   \n",
       "1          893       3              Wilkes, Mrs. James (Ellen Needs)  female   \n",
       "2          894       2                     Myles, Mr. Thomas Francis    male   \n",
       "3          895       3                              Wirz, Mr. Albert    male   \n",
       "4          896       3  Hirvonen, Mrs. Alexander (Helga E Lindqvist)  female   \n",
       "\n",
       "    Age  SibSp  Parch   Ticket     Fare Cabin Embarked  \n",
       "0  34.5      0      0   330911   7.8292   NaN        Q  \n",
       "1  47.0      1      0   363272   7.0000   NaN        S  \n",
       "2  62.0      0      0   240276   9.6875   NaN        Q  \n",
       "3  27.0      0      0   315154   8.6625   NaN        S  \n",
       "4  22.0      1      1  3101298  12.2875   NaN        S  "
      ]
     },
     "execution_count": 25,
     "metadata": {},
     "output_type": "execute_result"
    }
   ],
   "source": [
    "df_test = pd.read_csv(\"../input/titanic/test.csv\")\n",
    "df_test.head()"
   ]
  },
  {
   "cell_type": "code",
   "execution_count": 26,
   "id": "d741c16d",
   "metadata": {
    "execution": {
     "iopub.execute_input": "2021-07-22T06:29:45.802400Z",
     "iopub.status.busy": "2021-07-22T06:29:45.801696Z",
     "iopub.status.idle": "2021-07-22T06:29:45.806158Z",
     "shell.execute_reply": "2021-07-22T06:29:45.806626Z",
     "shell.execute_reply.started": "2021-07-22T06:05:45.416319Z"
    },
    "papermill": {
     "duration": 0.058039,
     "end_time": "2021-07-22T06:29:45.806801",
     "exception": false,
     "start_time": "2021-07-22T06:29:45.748762",
     "status": "completed"
    },
    "tags": []
   },
   "outputs": [
    {
     "data": {
      "text/plain": [
       "(418, 11)"
      ]
     },
     "execution_count": 26,
     "metadata": {},
     "output_type": "execute_result"
    }
   ],
   "source": [
    "df_test.shape"
   ]
  },
  {
   "cell_type": "markdown",
   "id": "81969166",
   "metadata": {
    "papermill": {
     "duration": 0.051444,
     "end_time": "2021-07-22T06:29:45.909846",
     "exception": false,
     "start_time": "2021-07-22T06:29:45.858402",
     "status": "completed"
    },
    "tags": []
   },
   "source": [
    "### Check for missing values"
   ]
  },
  {
   "cell_type": "code",
   "execution_count": 27,
   "id": "b08bc902",
   "metadata": {
    "execution": {
     "iopub.execute_input": "2021-07-22T06:29:46.015155Z",
     "iopub.status.busy": "2021-07-22T06:29:46.014454Z",
     "iopub.status.idle": "2021-07-22T06:29:46.474780Z",
     "shell.execute_reply": "2021-07-22T06:29:46.474067Z",
     "shell.execute_reply.started": "2021-07-22T06:05:45.425600Z"
    },
    "papermill": {
     "duration": 0.514178,
     "end_time": "2021-07-22T06:29:46.474924",
     "exception": false,
     "start_time": "2021-07-22T06:29:45.960746",
     "status": "completed"
    },
    "tags": []
   },
   "outputs": [
    {
     "data": {
      "text/plain": [
       "<AxesSubplot:>"
      ]
     },
     "execution_count": 27,
     "metadata": {},
     "output_type": "execute_result"
    },
    {
     "data": {
      "image/png": "[encoded data removed]",
      "text/plain": [
       "<Figure size 432x288 with 2 Axes>"
      ]
     },
     "metadata": {
      "needs_background": "light"
     },
     "output_type": "display_data"
    }
   ],
   "source": [
    "sns.heatmap(df_test.isnull())"
   ]
  },
  {
   "cell_type": "code",
   "execution_count": 28,
   "id": "b0061d3e",
   "metadata": {
    "execution": {
     "iopub.execute_input": "2021-07-22T06:29:46.588452Z",
     "iopub.status.busy": "2021-07-22T06:29:46.587584Z",
     "iopub.status.idle": "2021-07-22T06:29:46.591019Z",
     "shell.execute_reply": "2021-07-22T06:29:46.591618Z",
     "shell.execute_reply.started": "2021-07-22T06:05:45.930119Z"
    },
    "papermill": {
     "duration": 0.064758,
     "end_time": "2021-07-22T06:29:46.591796",
     "exception": false,
     "start_time": "2021-07-22T06:29:46.527038",
     "status": "completed"
    },
    "tags": []
   },
   "outputs": [
    {
     "data": {
      "text/plain": [
       "PassengerId      0\n",
       "Pclass           0\n",
       "Name             0\n",
       "Sex              0\n",
       "Age             86\n",
       "SibSp            0\n",
       "Parch            0\n",
       "Ticket           0\n",
       "Fare             1\n",
       "Cabin          327\n",
       "Embarked         0\n",
       "dtype: int64"
      ]
     },
     "execution_count": 28,
     "metadata": {},
     "output_type": "execute_result"
    }
   ],
   "source": [
    "df_test.isnull().sum()"
   ]
  },
  {
   "cell_type": "code",
   "execution_count": 29,
   "id": "b468cb54",
   "metadata": {
    "execution": {
     "iopub.execute_input": "2021-07-22T06:29:46.702769Z",
     "iopub.status.busy": "2021-07-22T06:29:46.702049Z",
     "iopub.status.idle": "2021-07-22T06:29:46.704962Z",
     "shell.execute_reply": "2021-07-22T06:29:46.705424Z",
     "shell.execute_reply.started": "2021-07-22T06:05:45.942257Z"
    },
    "papermill": {
     "duration": 0.061566,
     "end_time": "2021-07-22T06:29:46.705640",
     "exception": false,
     "start_time": "2021-07-22T06:29:46.644074",
     "status": "completed"
    },
    "tags": []
   },
   "outputs": [],
   "source": [
    "df_test.drop(columns=['Cabin'], axis=1, inplace=True)"
   ]
  },
  {
   "cell_type": "code",
   "execution_count": 30,
   "id": "1f98bfc7",
   "metadata": {
    "execution": {
     "iopub.execute_input": "2021-07-22T06:29:46.824164Z",
     "iopub.status.busy": "2021-07-22T06:29:46.823438Z",
     "iopub.status.idle": "2021-07-22T06:29:46.827203Z",
     "shell.execute_reply": "2021-07-22T06:29:46.826407Z",
     "shell.execute_reply.started": "2021-07-22T06:05:45.955129Z"
    },
    "papermill": {
     "duration": 0.066493,
     "end_time": "2021-07-22T06:29:46.827371",
     "exception": false,
     "start_time": "2021-07-22T06:29:46.760878",
     "status": "completed"
    },
    "tags": []
   },
   "outputs": [],
   "source": [
    "df_test.at[df_test['Fare'].isnull(), 'Fare'] = np.mean(df_test['Fare'])"
   ]
  },
  {
   "cell_type": "code",
   "execution_count": 31,
   "id": "d1dad912",
   "metadata": {
    "execution": {
     "iopub.execute_input": "2021-07-22T06:29:46.948073Z",
     "iopub.status.busy": "2021-07-22T06:29:46.947255Z",
     "iopub.status.idle": "2021-07-22T06:29:46.951927Z",
     "shell.execute_reply": "2021-07-22T06:29:46.951256Z",
     "shell.execute_reply.started": "2021-07-22T06:05:45.972048Z"
    },
    "papermill": {
     "duration": 0.072487,
     "end_time": "2021-07-22T06:29:46.952073",
     "exception": false,
     "start_time": "2021-07-22T06:29:46.879586",
     "status": "completed"
    },
    "tags": []
   },
   "outputs": [
    {
     "data": {
      "text/html": [
       "<div>\n",
       "<style scoped>\n",
       "    .dataframe tbody tr th:only-of-type {\n",
       "        vertical-align: middle;\n",
       "    }\n",
       "\n",
       "    .dataframe tbody tr th {\n",
       "        vertical-align: top;\n",
       "    }\n",
       "\n",
       "    .dataframe thead th {\n",
       "        text-align: right;\n",
       "    }\n",
       "</style>\n",
       "<table border=\"1\" class=\"dataframe\">\n",
       "  <thead>\n",
       "    <tr style=\"text-align: right;\">\n",
       "      <th></th>\n",
       "      <th>PassengerId</th>\n",
       "      <th>Pclass</th>\n",
       "      <th>Age</th>\n",
       "      <th>SibSp</th>\n",
       "      <th>Parch</th>\n",
       "      <th>Fare</th>\n",
       "    </tr>\n",
       "    <tr>\n",
       "      <th>Sex</th>\n",
       "      <th></th>\n",
       "      <th></th>\n",
       "      <th></th>\n",
       "      <th></th>\n",
       "      <th></th>\n",
       "      <th></th>\n",
       "    </tr>\n",
       "  </thead>\n",
       "  <tbody>\n",
       "    <tr>\n",
       "      <th>female</th>\n",
       "      <td>1096.789474</td>\n",
       "      <td>2.144737</td>\n",
       "      <td>30.272362</td>\n",
       "      <td>0.565789</td>\n",
       "      <td>0.598684</td>\n",
       "      <td>49.747699</td>\n",
       "    </tr>\n",
       "    <tr>\n",
       "      <th>male</th>\n",
       "      <td>1102.620301</td>\n",
       "      <td>2.334586</td>\n",
       "      <td>30.272732</td>\n",
       "      <td>0.379699</td>\n",
       "      <td>0.274436</td>\n",
       "      <td>27.558326</td>\n",
       "    </tr>\n",
       "  </tbody>\n",
       "</table>\n",
       "</div>"
      ],
      "text/plain": [
       "        PassengerId    Pclass        Age     SibSp     Parch       Fare\n",
       "Sex                                                                    \n",
       "female  1096.789474  2.144737  30.272362  0.565789  0.598684  49.747699\n",
       "male    1102.620301  2.334586  30.272732  0.379699  0.274436  27.558326"
      ]
     },
     "execution_count": 31,
     "metadata": {},
     "output_type": "execute_result"
    }
   ],
   "source": [
    "df_test.groupby('Sex').mean()"
   ]
  },
  {
   "cell_type": "code",
   "execution_count": 32,
   "id": "bfece153",
   "metadata": {
    "execution": {
     "iopub.execute_input": "2021-07-22T06:29:47.064541Z",
     "iopub.status.busy": "2021-07-22T06:29:47.063613Z",
     "iopub.status.idle": "2021-07-22T06:29:47.066866Z",
     "shell.execute_reply": "2021-07-22T06:29:47.066213Z",
     "shell.execute_reply.started": "2021-07-22T06:05:45.998758Z"
    },
    "papermill": {
     "duration": 0.06206,
     "end_time": "2021-07-22T06:29:47.067007",
     "exception": false,
     "start_time": "2021-07-22T06:29:47.004947",
     "status": "completed"
    },
    "tags": []
   },
   "outputs": [],
   "source": [
    "df_test['Age'] = df_test['Age'].fillna(30.27)"
   ]
  },
  {
   "cell_type": "code",
   "execution_count": 33,
   "id": "389ed2d7",
   "metadata": {
    "execution": {
     "iopub.execute_input": "2021-07-22T06:29:47.180680Z",
     "iopub.status.busy": "2021-07-22T06:29:47.180015Z",
     "iopub.status.idle": "2021-07-22T06:29:47.184114Z",
     "shell.execute_reply": "2021-07-22T06:29:47.183485Z",
     "shell.execute_reply.started": "2021-07-22T06:05:46.007103Z"
    },
    "papermill": {
     "duration": 0.064548,
     "end_time": "2021-07-22T06:29:47.184251",
     "exception": false,
     "start_time": "2021-07-22T06:29:47.119703",
     "status": "completed"
    },
    "tags": []
   },
   "outputs": [
    {
     "data": {
      "text/plain": [
       "PassengerId    0\n",
       "Pclass         0\n",
       "Name           0\n",
       "Sex            0\n",
       "Age            0\n",
       "SibSp          0\n",
       "Parch          0\n",
       "Ticket         0\n",
       "Fare           0\n",
       "Embarked       0\n",
       "dtype: int64"
      ]
     },
     "execution_count": 33,
     "metadata": {},
     "output_type": "execute_result"
    }
   ],
   "source": [
    "df_test.isna().sum()"
   ]
  },
  {
   "cell_type": "code",
   "execution_count": 34,
   "id": "02f50ba1",
   "metadata": {
    "execution": {
     "iopub.execute_input": "2021-07-22T06:29:47.297440Z",
     "iopub.status.busy": "2021-07-22T06:29:47.296816Z",
     "iopub.status.idle": "2021-07-22T06:29:47.300282Z",
     "shell.execute_reply": "2021-07-22T06:29:47.299754Z",
     "shell.execute_reply.started": "2021-07-22T06:05:46.029615Z"
    },
    "papermill": {
     "duration": 0.063287,
     "end_time": "2021-07-22T06:29:47.300420",
     "exception": false,
     "start_time": "2021-07-22T06:29:47.237133",
     "status": "completed"
    },
    "tags": []
   },
   "outputs": [],
   "source": [
    "sex = pd.get_dummies(df_test['Sex'], drop_first=True)\n",
    "embarked = pd.get_dummies(df_test['Embarked'], drop_first=True)"
   ]
  },
  {
   "cell_type": "code",
   "execution_count": 35,
   "id": "c7445016",
   "metadata": {
    "execution": {
     "iopub.execute_input": "2021-07-22T06:29:47.427868Z",
     "iopub.status.busy": "2021-07-22T06:29:47.427185Z",
     "iopub.status.idle": "2021-07-22T06:29:47.432140Z",
     "shell.execute_reply": "2021-07-22T06:29:47.431593Z",
     "shell.execute_reply.started": "2021-07-22T06:05:46.045409Z"
    },
    "papermill": {
     "duration": 0.078195,
     "end_time": "2021-07-22T06:29:47.432279",
     "exception": false,
     "start_time": "2021-07-22T06:29:47.354084",
     "status": "completed"
    },
    "tags": []
   },
   "outputs": [
    {
     "data": {
      "text/html": [
       "<div>\n",
       "<style scoped>\n",
       "    .dataframe tbody tr th:only-of-type {\n",
       "        vertical-align: middle;\n",
       "    }\n",
       "\n",
       "    .dataframe tbody tr th {\n",
       "        vertical-align: top;\n",
       "    }\n",
       "\n",
       "    .dataframe thead th {\n",
       "        text-align: right;\n",
       "    }\n",
       "</style>\n",
       "<table border=\"1\" class=\"dataframe\">\n",
       "  <thead>\n",
       "    <tr style=\"text-align: right;\">\n",
       "      <th></th>\n",
       "      <th>PassengerId</th>\n",
       "      <th>Pclass</th>\n",
       "      <th>Name</th>\n",
       "      <th>Sex</th>\n",
       "      <th>Age</th>\n",
       "      <th>SibSp</th>\n",
       "      <th>Parch</th>\n",
       "      <th>Ticket</th>\n",
       "      <th>Fare</th>\n",
       "      <th>Embarked</th>\n",
       "      <th>male</th>\n",
       "      <th>Q</th>\n",
       "      <th>S</th>\n",
       "    </tr>\n",
       "  </thead>\n",
       "  <tbody>\n",
       "    <tr>\n",
       "      <th>0</th>\n",
       "      <td>892</td>\n",
       "      <td>3</td>\n",
       "      <td>Kelly, Mr. James</td>\n",
       "      <td>male</td>\n",
       "      <td>34.5</td>\n",
       "      <td>0</td>\n",
       "      <td>0</td>\n",
       "      <td>330911</td>\n",
       "      <td>7.8292</td>\n",
       "      <td>Q</td>\n",
       "      <td>1</td>\n",
       "      <td>1</td>\n",
       "      <td>0</td>\n",
       "    </tr>\n",
       "    <tr>\n",
       "      <th>1</th>\n",
       "      <td>893</td>\n",
       "      <td>3</td>\n",
       "      <td>Wilkes, Mrs. James (Ellen Needs)</td>\n",
       "      <td>female</td>\n",
       "      <td>47.0</td>\n",
       "      <td>1</td>\n",
       "      <td>0</td>\n",
       "      <td>363272</td>\n",
       "      <td>7.0000</td>\n",
       "      <td>S</td>\n",
       "      <td>0</td>\n",
       "      <td>0</td>\n",
       "      <td>1</td>\n",
       "    </tr>\n",
       "    <tr>\n",
       "      <th>2</th>\n",
       "      <td>894</td>\n",
       "      <td>2</td>\n",
       "      <td>Myles, Mr. Thomas Francis</td>\n",
       "      <td>male</td>\n",
       "      <td>62.0</td>\n",
       "      <td>0</td>\n",
       "      <td>0</td>\n",
       "      <td>240276</td>\n",
       "      <td>9.6875</td>\n",
       "      <td>Q</td>\n",
       "      <td>1</td>\n",
       "      <td>1</td>\n",
       "      <td>0</td>\n",
       "    </tr>\n",
       "    <tr>\n",
       "      <th>3</th>\n",
       "      <td>895</td>\n",
       "      <td>3</td>\n",
       "      <td>Wirz, Mr. Albert</td>\n",
       "      <td>male</td>\n",
       "      <td>27.0</td>\n",
       "      <td>0</td>\n",
       "      <td>0</td>\n",
       "      <td>315154</td>\n",
       "      <td>8.6625</td>\n",
       "      <td>S</td>\n",
       "      <td>1</td>\n",
       "      <td>0</td>\n",
       "      <td>1</td>\n",
       "    </tr>\n",
       "    <tr>\n",
       "      <th>4</th>\n",
       "      <td>896</td>\n",
       "      <td>3</td>\n",
       "      <td>Hirvonen, Mrs. Alexander (Helga E Lindqvist)</td>\n",
       "      <td>female</td>\n",
       "      <td>22.0</td>\n",
       "      <td>1</td>\n",
       "      <td>1</td>\n",
       "      <td>3101298</td>\n",
       "      <td>12.2875</td>\n",
       "      <td>S</td>\n",
       "      <td>0</td>\n",
       "      <td>0</td>\n",
       "      <td>1</td>\n",
       "    </tr>\n",
       "  </tbody>\n",
       "</table>\n",
       "</div>"
      ],
      "text/plain": [
       "   PassengerId  Pclass                                          Name     Sex  \\\n",
       "0          892       3                              Kelly, Mr. James    male   \n",
       "1          893       3              Wilkes, Mrs. James (Ellen Needs)  female   \n",
       "2          894       2                     Myles, Mr. Thomas Francis    male   \n",
       "3          895       3                              Wirz, Mr. Albert    male   \n",
       "4          896       3  Hirvonen, Mrs. Alexander (Helga E Lindqvist)  female   \n",
       "\n",
       "    Age  SibSp  Parch   Ticket     Fare Embarked  male  Q  S  \n",
       "0  34.5      0      0   330911   7.8292        Q     1  1  0  \n",
       "1  47.0      1      0   363272   7.0000        S     0  0  1  \n",
       "2  62.0      0      0   240276   9.6875        Q     1  1  0  \n",
       "3  27.0      0      0   315154   8.6625        S     1  0  1  \n",
       "4  22.0      1      1  3101298  12.2875        S     0  0  1  "
      ]
     },
     "execution_count": 35,
     "metadata": {},
     "output_type": "execute_result"
    }
   ],
   "source": [
    "df_test = pd.concat([df_test, sex, embarked], axis=1)\n",
    "df_test.head()"
   ]
  },
  {
   "cell_type": "code",
   "execution_count": 36,
   "id": "b7c3f9cb",
   "metadata": {
    "execution": {
     "iopub.execute_input": "2021-07-22T06:29:47.555039Z",
     "iopub.status.busy": "2021-07-22T06:29:47.554363Z",
     "iopub.status.idle": "2021-07-22T06:29:47.557918Z",
     "shell.execute_reply": "2021-07-22T06:29:47.557366Z",
     "shell.execute_reply.started": "2021-07-22T06:05:46.075088Z"
    },
    "papermill": {
     "duration": 0.072364,
     "end_time": "2021-07-22T06:29:47.558059",
     "exception": false,
     "start_time": "2021-07-22T06:29:47.485695",
     "status": "completed"
    },
    "tags": []
   },
   "outputs": [
    {
     "data": {
      "text/html": [
       "<div>\n",
       "<style scoped>\n",
       "    .dataframe tbody tr th:only-of-type {\n",
       "        vertical-align: middle;\n",
       "    }\n",
       "\n",
       "    .dataframe tbody tr th {\n",
       "        vertical-align: top;\n",
       "    }\n",
       "\n",
       "    .dataframe thead th {\n",
       "        text-align: right;\n",
       "    }\n",
       "</style>\n",
       "<table border=\"1\" class=\"dataframe\">\n",
       "  <thead>\n",
       "    <tr style=\"text-align: right;\">\n",
       "      <th></th>\n",
       "      <th>PassengerId</th>\n",
       "      <th>Pclass</th>\n",
       "      <th>Age</th>\n",
       "      <th>SibSp</th>\n",
       "      <th>Parch</th>\n",
       "      <th>Fare</th>\n",
       "      <th>male</th>\n",
       "      <th>Q</th>\n",
       "      <th>S</th>\n",
       "    </tr>\n",
       "  </thead>\n",
       "  <tbody>\n",
       "    <tr>\n",
       "      <th>0</th>\n",
       "      <td>892</td>\n",
       "      <td>3</td>\n",
       "      <td>34.5</td>\n",
       "      <td>0</td>\n",
       "      <td>0</td>\n",
       "      <td>7.8292</td>\n",
       "      <td>1</td>\n",
       "      <td>1</td>\n",
       "      <td>0</td>\n",
       "    </tr>\n",
       "    <tr>\n",
       "      <th>1</th>\n",
       "      <td>893</td>\n",
       "      <td>3</td>\n",
       "      <td>47.0</td>\n",
       "      <td>1</td>\n",
       "      <td>0</td>\n",
       "      <td>7.0000</td>\n",
       "      <td>0</td>\n",
       "      <td>0</td>\n",
       "      <td>1</td>\n",
       "    </tr>\n",
       "    <tr>\n",
       "      <th>2</th>\n",
       "      <td>894</td>\n",
       "      <td>2</td>\n",
       "      <td>62.0</td>\n",
       "      <td>0</td>\n",
       "      <td>0</td>\n",
       "      <td>9.6875</td>\n",
       "      <td>1</td>\n",
       "      <td>1</td>\n",
       "      <td>0</td>\n",
       "    </tr>\n",
       "    <tr>\n",
       "      <th>3</th>\n",
       "      <td>895</td>\n",
       "      <td>3</td>\n",
       "      <td>27.0</td>\n",
       "      <td>0</td>\n",
       "      <td>0</td>\n",
       "      <td>8.6625</td>\n",
       "      <td>1</td>\n",
       "      <td>0</td>\n",
       "      <td>1</td>\n",
       "    </tr>\n",
       "    <tr>\n",
       "      <th>4</th>\n",
       "      <td>896</td>\n",
       "      <td>3</td>\n",
       "      <td>22.0</td>\n",
       "      <td>1</td>\n",
       "      <td>1</td>\n",
       "      <td>12.2875</td>\n",
       "      <td>0</td>\n",
       "      <td>0</td>\n",
       "      <td>1</td>\n",
       "    </tr>\n",
       "  </tbody>\n",
       "</table>\n",
       "</div>"
      ],
      "text/plain": [
       "   PassengerId  Pclass   Age  SibSp  Parch     Fare  male  Q  S\n",
       "0          892       3  34.5      0      0   7.8292     1  1  0\n",
       "1          893       3  47.0      1      0   7.0000     0  0  1\n",
       "2          894       2  62.0      0      0   9.6875     1  1  0\n",
       "3          895       3  27.0      0      0   8.6625     1  0  1\n",
       "4          896       3  22.0      1      1  12.2875     0  0  1"
      ]
     },
     "execution_count": 36,
     "metadata": {},
     "output_type": "execute_result"
    }
   ],
   "source": [
    "df_test.drop(columns=['Name', 'Ticket', 'Sex', 'Embarked'], axis=1, inplace=True)\n",
    "df_test.head()"
   ]
  },
  {
   "cell_type": "markdown",
   "id": "adc263a6",
   "metadata": {
    "papermill": {
     "duration": 0.054846,
     "end_time": "2021-07-22T06:29:47.668176",
     "exception": false,
     "start_time": "2021-07-22T06:29:47.613330",
     "status": "completed"
    },
    "tags": []
   },
   "source": [
    "## Prepare final training and test dataset and build model"
   ]
  },
  {
   "cell_type": "code",
   "execution_count": 37,
   "id": "164abf4e",
   "metadata": {
    "execution": {
     "iopub.execute_input": "2021-07-22T06:29:47.785327Z",
     "iopub.status.busy": "2021-07-22T06:29:47.784346Z",
     "iopub.status.idle": "2021-07-22T06:29:47.787430Z",
     "shell.execute_reply": "2021-07-22T06:29:47.786940Z",
     "shell.execute_reply.started": "2021-07-22T06:05:46.102415Z"
    },
    "papermill": {
     "duration": 0.064529,
     "end_time": "2021-07-22T06:29:47.787589",
     "exception": false,
     "start_time": "2021-07-22T06:29:47.723060",
     "status": "completed"
    },
    "tags": []
   },
   "outputs": [],
   "source": [
    "X_train = df.drop(columns=['Survived'], axis=1)\n",
    "y_train = df['Survived']\n",
    "X_test = df_test.drop(columns=['PassengerId'], axis=1).copy()"
   ]
  },
  {
   "cell_type": "code",
   "execution_count": 38,
   "id": "6cf986c8",
   "metadata": {
    "execution": {
     "iopub.execute_input": "2021-07-22T06:29:47.901872Z",
     "iopub.status.busy": "2021-07-22T06:29:47.901173Z",
     "iopub.status.idle": "2021-07-22T06:29:48.288438Z",
     "shell.execute_reply": "2021-07-22T06:29:48.287700Z",
     "shell.execute_reply.started": "2021-07-22T06:05:46.110832Z"
    },
    "papermill": {
     "duration": 0.446639,
     "end_time": "2021-07-22T06:29:48.288623",
     "exception": false,
     "start_time": "2021-07-22T06:29:47.841984",
     "status": "completed"
    },
    "tags": []
   },
   "outputs": [],
   "source": [
    "from sklearn.linear_model import LogisticRegression\n",
    "lr_model = LogisticRegression(solver='liblinear', penalty='l1')"
   ]
  },
  {
   "cell_type": "code",
   "execution_count": 39,
   "id": "29c1dab4",
   "metadata": {
    "execution": {
     "iopub.execute_input": "2021-07-22T06:29:48.406274Z",
     "iopub.status.busy": "2021-07-22T06:29:48.405081Z",
     "iopub.status.idle": "2021-07-22T06:29:48.422024Z",
     "shell.execute_reply": "2021-07-22T06:29:48.421126Z",
     "shell.execute_reply.started": "2021-07-22T06:05:46.127355Z"
    },
    "papermill": {
     "duration": 0.07894,
     "end_time": "2021-07-22T06:29:48.422200",
     "exception": false,
     "start_time": "2021-07-22T06:29:48.343260",
     "status": "completed"
    },
    "tags": []
   },
   "outputs": [
    {
     "data": {
      "text/plain": [
       "LogisticRegression(penalty='l1', solver='liblinear')"
      ]
     },
     "execution_count": 39,
     "metadata": {},
     "output_type": "execute_result"
    }
   ],
   "source": [
    "lr_model.fit(X_train, y_train)"
   ]
  },
  {
   "cell_type": "code",
   "execution_count": 40,
   "id": "242b8c0c",
   "metadata": {
    "execution": {
     "iopub.execute_input": "2021-07-22T06:29:48.540118Z",
     "iopub.status.busy": "2021-07-22T06:29:48.539046Z",
     "iopub.status.idle": "2021-07-22T06:29:48.542302Z",
     "shell.execute_reply": "2021-07-22T06:29:48.541663Z",
     "shell.execute_reply.started": "2021-07-22T06:05:46.156586Z"
    },
    "papermill": {
     "duration": 0.06492,
     "end_time": "2021-07-22T06:29:48.542443",
     "exception": false,
     "start_time": "2021-07-22T06:29:48.477523",
     "status": "completed"
    },
    "tags": []
   },
   "outputs": [],
   "source": [
    "titanic_preds = lr_model.predict(X_test)"
   ]
  },
  {
   "cell_type": "code",
   "execution_count": 41,
   "id": "eef96e26",
   "metadata": {
    "execution": {
     "iopub.execute_input": "2021-07-22T06:29:48.660688Z",
     "iopub.status.busy": "2021-07-22T06:29:48.659790Z",
     "iopub.status.idle": "2021-07-22T06:29:48.664794Z",
     "shell.execute_reply": "2021-07-22T06:29:48.665265Z",
     "shell.execute_reply.started": "2021-07-22T06:05:46.165471Z"
    },
    "papermill": {
     "duration": 0.068911,
     "end_time": "2021-07-22T06:29:48.665455",
     "exception": false,
     "start_time": "2021-07-22T06:29:48.596544",
     "status": "completed"
    },
    "tags": []
   },
   "outputs": [
    {
     "name": "stdout",
     "output_type": "stream",
     "text": [
      "Training accuracy of the model is  79.75\n"
     ]
    }
   ],
   "source": [
    "lr_model_acc = round(lr_model.score(X_train, y_train)*100, 2)\n",
    "print(\"Training accuracy of the model is \", lr_model_acc)"
   ]
  },
  {
   "cell_type": "code",
   "execution_count": 42,
   "id": "79a921c9",
   "metadata": {
    "execution": {
     "iopub.execute_input": "2021-07-22T06:29:48.781457Z",
     "iopub.status.busy": "2021-07-22T06:29:48.780451Z",
     "iopub.status.idle": "2021-07-22T06:29:48.784009Z",
     "shell.execute_reply": "2021-07-22T06:29:48.783453Z",
     "shell.execute_reply.started": "2021-07-22T06:05:46.185858Z"
    },
    "papermill": {
     "duration": 0.063416,
     "end_time": "2021-07-22T06:29:48.784162",
     "exception": false,
     "start_time": "2021-07-22T06:29:48.720746",
     "status": "completed"
    },
    "tags": []
   },
   "outputs": [],
   "source": [
    "from sklearn.model_selection import cross_val_predict\n",
    "from sklearn.metrics import confusion_matrix"
   ]
  },
  {
   "cell_type": "code",
   "execution_count": 43,
   "id": "9cb7a55c",
   "metadata": {
    "execution": {
     "iopub.execute_input": "2021-07-22T06:29:48.899810Z",
     "iopub.status.busy": "2021-07-22T06:29:48.899066Z",
     "iopub.status.idle": "2021-07-22T06:29:48.939513Z",
     "shell.execute_reply": "2021-07-22T06:29:48.938954Z",
     "shell.execute_reply.started": "2021-07-22T06:05:46.195938Z"
    },
    "papermill": {
     "duration": 0.100528,
     "end_time": "2021-07-22T06:29:48.939656",
     "exception": false,
     "start_time": "2021-07-22T06:29:48.839128",
     "status": "completed"
    },
    "tags": []
   },
   "outputs": [
    {
     "data": {
      "text/plain": [
       "array([[471,  78],\n",
       "       [109, 231]])"
      ]
     },
     "execution_count": 43,
     "metadata": {},
     "output_type": "execute_result"
    }
   ],
   "source": [
    "preds = cross_val_predict(lr_model, X_train, y_train, cv=3)\n",
    "confusion_matrix(y_train, preds)"
   ]
  },
  {
   "cell_type": "code",
   "execution_count": 44,
   "id": "56ec622a",
   "metadata": {
    "execution": {
     "iopub.execute_input": "2021-07-22T06:29:49.055592Z",
     "iopub.status.busy": "2021-07-22T06:29:49.054888Z",
     "iopub.status.idle": "2021-07-22T06:29:49.070986Z",
     "shell.execute_reply": "2021-07-22T06:29:49.070125Z",
     "shell.execute_reply.started": "2021-07-22T06:19:50.436204Z"
    },
    "papermill": {
     "duration": 0.076603,
     "end_time": "2021-07-22T06:29:49.071157",
     "exception": false,
     "start_time": "2021-07-22T06:29:48.994554",
     "status": "completed"
    },
    "tags": []
   },
   "outputs": [
    {
     "data": {
      "text/html": [
       "<div>\n",
       "<style scoped>\n",
       "    .dataframe tbody tr th:only-of-type {\n",
       "        vertical-align: middle;\n",
       "    }\n",
       "\n",
       "    .dataframe tbody tr th {\n",
       "        vertical-align: top;\n",
       "    }\n",
       "\n",
       "    .dataframe thead th {\n",
       "        text-align: right;\n",
       "    }\n",
       "</style>\n",
       "<table border=\"1\" class=\"dataframe\">\n",
       "  <thead>\n",
       "    <tr style=\"text-align: right;\">\n",
       "      <th></th>\n",
       "      <th>PassengerId</th>\n",
       "      <th>Survived</th>\n",
       "    </tr>\n",
       "  </thead>\n",
       "  <tbody>\n",
       "    <tr>\n",
       "      <th>0</th>\n",
       "      <td>892</td>\n",
       "      <td>0</td>\n",
       "    </tr>\n",
       "    <tr>\n",
       "      <th>1</th>\n",
       "      <td>893</td>\n",
       "      <td>1</td>\n",
       "    </tr>\n",
       "    <tr>\n",
       "      <th>2</th>\n",
       "      <td>894</td>\n",
       "      <td>0</td>\n",
       "    </tr>\n",
       "    <tr>\n",
       "      <th>3</th>\n",
       "      <td>895</td>\n",
       "      <td>0</td>\n",
       "    </tr>\n",
       "    <tr>\n",
       "      <th>4</th>\n",
       "      <td>896</td>\n",
       "      <td>1</td>\n",
       "    </tr>\n",
       "  </tbody>\n",
       "</table>\n",
       "</div>"
      ],
      "text/plain": [
       "   PassengerId  Survived\n",
       "0          892         0\n",
       "1          893         1\n",
       "2          894         0\n",
       "3          895         0\n",
       "4          896         1"
      ]
     },
     "execution_count": 44,
     "metadata": {},
     "output_type": "execute_result"
    }
   ],
   "source": [
    "submit = pd.read_csv(\"../input/titanic/gender_submission.csv\")\n",
    "submit.head()"
   ]
  },
  {
   "cell_type": "code",
   "execution_count": 45,
   "id": "39f57f5e",
   "metadata": {
    "execution": {
     "iopub.execute_input": "2021-07-22T06:29:49.194400Z",
     "iopub.status.busy": "2021-07-22T06:29:49.193751Z",
     "iopub.status.idle": "2021-07-22T06:29:49.199197Z",
     "shell.execute_reply": "2021-07-22T06:29:49.199675Z",
     "shell.execute_reply.started": "2021-07-22T06:20:55.400855Z"
    },
    "papermill": {
     "duration": 0.066094,
     "end_time": "2021-07-22T06:29:49.199854",
     "exception": false,
     "start_time": "2021-07-22T06:29:49.133760",
     "status": "completed"
    },
    "tags": []
   },
   "outputs": [],
   "source": [
    "submit['Survived'] = titanic_preds\n",
    "submit.to_csv(\"submit.csv\", index=False)"
   ]
  }
 ],
 "metadata": {
  "kernelspec": {
   "display_name": "Python 3",
   "language": "python",
   "name": "python3"
  },
  "language_info": {
   "codemirror_mode": {
    "name": "ipython",
    "version": 3
   },
   "file_extension": ".py",
   "mimetype": "text/x-python",
   "name": "python",
   "nbconvert_exporter": "python",
   "pygments_lexer": "ipython3",
   "version": "3.7.10"
  },
  "papermill": {
   "default_parameters": {},
   "duration": 17.592937,
   "end_time": "2021-07-22T06:29:50.065280",
   "environment_variables": {},
   "exception": null,
   "input_path": "__notebook__.ipynb",
   "output_path": "__notebook__.ipynb",
   "parameters": {},
   "start_time": "2021-07-22T06:29:32.472343",
   "version": "2.3.3"
  }
 },
 "nbformat": 4,
 "nbformat_minor": 5
}
